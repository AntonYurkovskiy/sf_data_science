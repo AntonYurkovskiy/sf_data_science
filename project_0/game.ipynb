{
 "cells": [
  {
   "cell_type": "code",
   "execution_count": 4,
   "metadata": {},
   "outputs": [],
   "source": [
    "import game_v2"
   ]
  },
  {
   "cell_type": "code",
   "execution_count": 7,
   "metadata": {},
   "outputs": [
    {
     "name": "stdout",
     "output_type": "stream",
     "text": [
      "Ваш алгоритм угадывает число в среднем за: 101 попыток\n"
     ]
    },
    {
     "data": {
      "text/plain": [
       "101"
      ]
     },
     "execution_count": 7,
     "metadata": {},
     "output_type": "execute_result"
    }
   ],
   "source": [
    "game_v2.score_game(game_v2.random_predict)"
   ]
  },
  {
   "cell_type": "markdown",
   "metadata": {},
   "source": [
    "# Игра укадай число"
   ]
  },
  {
   "cell_type": "code",
   "execution_count": 3,
   "metadata": {},
   "outputs": [
    {
     "name": "stdout",
     "output_type": "stream",
     "text": [
      "Компьютер угадал загаданное число за 3 попыток. Это число 38\n",
      "Компьютер угадал загаданное число за 7 попыток. Это число 13\n",
      "Компьютер угадал загаданное число за 7 попыток. Это число 73\n",
      "Компьютер угадал загаданное число за 6 попыток. Это число 10\n",
      "Компьютер угадал загаданное число за 6 попыток. Это число 76\n",
      "Компьютер угадал загаданное число за 6 попыток. Это число 6\n",
      "Компьютер угадал загаданное число за 6 попыток. Это число 80\n",
      "Компьютер угадал загаданное число за 5 попыток. Это число 65\n",
      "Компьютер угадал загаданное число за 5 попыток. Это число 17\n",
      "Компьютер угадал загаданное число за 6 попыток. Это число 2\n",
      "Компьютер угадал загаданное число за 7 попыток. Это число 77\n",
      "Компьютер угадал загаданное число за 5 попыток. Это число 72\n",
      "Компьютер угадал загаданное число за 7 попыток. Это число 7\n",
      "Компьютер угадал загаданное число за 2 попыток. Это число 26\n",
      "Компьютер угадал загаданное число за 7 попыток. Это число 51\n",
      "Компьютер угадал загаданное число за 7 попыток. Это число 21\n",
      "Компьютер угадал загаданное число за 7 попыток. Это число 19\n",
      "Компьютер угадал загаданное число за 5 попыток. Это число 85\n",
      "Компьютер угадал загаданное число за 6 попыток. Это число 12\n",
      "Компьютер угадал загаданное число за 5 попыток. Это число 29\n",
      "Компьютер угадал загаданное число за 6 попыток. Это число 30\n",
      "Компьютер угадал загаданное число за 7 попыток. Это число 15\n",
      "Компьютер угадал загаданное число за 7 попыток. Это число 51\n",
      "Компьютер угадал загаданное число за 7 попыток. Это число 69\n",
      "Компьютер угадал загаданное число за 3 попыток. Это число 88\n",
      "Компьютер угадал загаданное число за 3 попыток. Это число 88\n",
      "Компьютер угадал загаданное число за 7 попыток. Это число 95\n",
      "Компьютер угадал загаданное число за 5 попыток. Это число 97\n",
      "Компьютер угадал загаданное число за 7 попыток. Это число 87\n",
      "Компьютер угадал загаданное число за 3 попыток. Это число 14\n",
      "Компьютер угадал загаданное число за 6 попыток. Это число 10\n",
      "Компьютер угадал загаданное число за 4 попыток. Это число 8\n",
      "Компьютер угадал загаданное число за 6 попыток. Это число 64\n",
      "Компьютер угадал загаданное число за 3 попыток. Это число 62\n",
      "Компьютер угадал загаданное число за 5 попыток. Это число 23\n",
      "Компьютер угадал загаданное число за 6 попыток. Это число 58\n",
      "Компьютер угадал загаданное число за 6 попыток. Это число 2\n"
     ]
    },
    {
     "ename": "KeyboardInterrupt",
     "evalue": "",
     "output_type": "error",
     "traceback": [
      "\u001b[1;31m---------------------------------------------------------------------------\u001b[0m",
      "\u001b[1;31mKeyboardInterrupt\u001b[0m                         Traceback (most recent call last)",
      "Cell \u001b[1;32mIn [3], line 1\u001b[0m\n\u001b[1;32m----> 1\u001b[0m \u001b[38;5;28;01mfrom\u001b[39;00m \u001b[38;5;21;01mgame_v2\u001b[39;00m \u001b[38;5;28;01mimport\u001b[39;00m score_game\n\u001b[0;32m      2\u001b[0m \u001b[38;5;28;01mfrom\u001b[39;00m \u001b[38;5;21;01mgame_v2\u001b[39;00m \u001b[38;5;28;01mimport\u001b[39;00m random_predict\n",
      "File \u001b[1;32me:\\IDE\\project_0\\game_v2.py:57\u001b[0m\n\u001b[0;32m     54\u001b[0m     \u001b[39mreturn\u001b[39;00m(score)\n\u001b[0;32m     56\u001b[0m \u001b[39m# RUN\u001b[39;00m\n\u001b[1;32m---> 57\u001b[0m score_game(random_predict)\n\u001b[0;32m     58\u001b[0m \u001b[39mif\u001b[39;00m \u001b[39m__name__\u001b[39m \u001b[39m==\u001b[39m \u001b[39m'\u001b[39m\u001b[39m__main__\u001b[39m\u001b[39m'\u001b[39m:\n\u001b[0;32m     59\u001b[0m     score_game(random_predict)\n",
      "File \u001b[1;32me:\\IDE\\project_0\\game_v2.py:49\u001b[0m, in \u001b[0;36mscore_game\u001b[1;34m(random_predict)\u001b[0m\n\u001b[0;32m     46\u001b[0m random_array \u001b[39m=\u001b[39m np\u001b[39m.\u001b[39mrandom\u001b[39m.\u001b[39mrandint(\u001b[39m1\u001b[39m, \u001b[39m101\u001b[39m, size\u001b[39m=\u001b[39m(\u001b[39m1000\u001b[39m)) \u001b[39m# загадали список чисел\u001b[39;00m\n\u001b[0;32m     48\u001b[0m \u001b[39mfor\u001b[39;00m number \u001b[39min\u001b[39;00m random_array:\n\u001b[1;32m---> 49\u001b[0m     count_ls\u001b[39m.\u001b[39mappend(random_predict(number))\n\u001b[0;32m     51\u001b[0m score \u001b[39m=\u001b[39m \u001b[39mint\u001b[39m(np\u001b[39m.\u001b[39mmean(count_ls)) \u001b[39m# находим среднее количество попыток\u001b[39;00m\n\u001b[0;32m     53\u001b[0m \u001b[39mprint\u001b[39m(\u001b[39mf\u001b[39m\u001b[39m'\u001b[39m\u001b[39mВаш алгоритм угадывает число в среднем за: \u001b[39m\u001b[39m{\u001b[39;00mscore\u001b[39m}\u001b[39;00m\u001b[39m попыток\u001b[39m\u001b[39m'\u001b[39m)\n",
      "File \u001b[1;32me:\\IDE\\project_0\\game_v2.py:23\u001b[0m, in \u001b[0;36mrandom_predict\u001b[1;34m(number)\u001b[0m\n\u001b[0;32m     21\u001b[0m \u001b[39mwhile\u001b[39;00m \u001b[39mTrue\u001b[39;00m:\n\u001b[0;32m     22\u001b[0m     count \u001b[39m+\u001b[39m\u001b[39m=\u001b[39m \u001b[39m1\u001b[39m\n\u001b[1;32m---> 23\u001b[0m     md \u001b[39m=\u001b[39m \u001b[39mround\u001b[39;49m((mn \u001b[39m+\u001b[39;49m mx)\u001b[39m/\u001b[39;49m\u001b[39m2\u001b[39;49m)\n\u001b[0;32m     25\u001b[0m     \u001b[39mif\u001b[39;00m md \u001b[39m>\u001b[39m number:\n\u001b[0;32m     26\u001b[0m         mx \u001b[39m=\u001b[39m md\n",
      "\u001b[1;31mKeyboardInterrupt\u001b[0m: "
     ]
    }
   ],
   "source": [
    "from game_v2 import score_game\n",
    "from game_v2 import random_predict"
   ]
  },
  {
   "cell_type": "markdown",
   "metadata": {},
   "source": [
    "## Угадываем рандомно:"
   ]
  },
  {
   "cell_type": "code",
   "execution_count": 2,
   "metadata": {},
   "outputs": [
    {
     "ename": "NameError",
     "evalue": "name 'score_game' is not defined",
     "output_type": "error",
     "traceback": [
      "\u001b[1;31m---------------------------------------------------------------------------\u001b[0m",
      "\u001b[1;31mNameError\u001b[0m                                 Traceback (most recent call last)",
      "Cell \u001b[1;32mIn [2], line 1\u001b[0m\n\u001b[1;32m----> 1\u001b[0m score_game(random_predict)\n",
      "\u001b[1;31mNameError\u001b[0m: name 'score_game' is not defined"
     ]
    }
   ],
   "source": [
    "score_game(random_predict)"
   ]
  },
  {
   "cell_type": "markdown",
   "metadata": {},
   "source": []
  }
 ],
 "metadata": {
  "kernelspec": {
   "display_name": "Python 3.9.10 64-bit",
   "language": "python",
   "name": "python3"
  },
  "language_info": {
   "codemirror_mode": {
    "name": "ipython",
    "version": 3
   },
   "file_extension": ".py",
   "mimetype": "text/x-python",
   "name": "python",
   "nbconvert_exporter": "python",
   "pygments_lexer": "ipython3",
   "version": "3.9.10"
  },
  "orig_nbformat": 4,
  "vscode": {
   "interpreter": {
    "hash": "cf92aa13fedf815d5c8dd192b8d835913fde3e8bc926b2a0ad6cc74ef2ba3ca2"
   }
  }
 },
 "nbformat": 4,
 "nbformat_minor": 2
}
