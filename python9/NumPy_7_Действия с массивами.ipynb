{
 "cells": [
  {
   "cell_type": "code",
   "execution_count": 1,
   "metadata": {},
   "outputs": [
    {
     "data": {
      "text/plain": [
       "array([0, 1, 2, 3, 4, 5, 6, 7])"
      ]
     },
     "execution_count": 1,
     "metadata": {},
     "output_type": "execute_result"
    }
   ],
   "source": [
    "import numpy as np\n",
    "arr = np.arange(8)\n",
    "arr"
   ]
  },
  {
   "cell_type": "code",
   "execution_count": 2,
   "metadata": {},
   "outputs": [
    {
     "data": {
      "text/plain": [
       "array([[0, 1, 2, 3],\n",
       "       [4, 5, 6, 7]])"
      ]
     },
     "execution_count": 2,
     "metadata": {},
     "output_type": "execute_result"
    }
   ],
   "source": [
    "#Поменять форму массива arr можно с помощью \n",
    "# присвоения атрибуту shape кортежа с желаемой формой:\n",
    "\n",
    "arr.shape = (2, 4)\n",
    "arr"
   ]
  },
  {
   "cell_type": "code",
   "execution_count": 3,
   "metadata": {},
   "outputs": [
    {
     "data": {
      "text/plain": [
       "array([[0, 1, 2, 3],\n",
       "       [4, 5, 6, 7]])"
      ]
     },
     "execution_count": 3,
     "metadata": {},
     "output_type": "execute_result"
    }
   ],
   "source": [
    "#Чтобы оставить исходный массив без изменений и дополнительно \n",
    "# получить новый массив новой формы, нужно использовать \n",
    "# функцию reshape. Она также принимает в качестве аргумента \n",
    "# кортеж из чисел для формы, но возвращает новый массив, \n",
    "# а не изменяет исходный:\n",
    "\n",
    "arr = np.arange(8)\n",
    "arr_new = arr.reshape((2, 4))\n",
    "arr_new"
   ]
  },
  {
   "cell_type": "code",
   "execution_count": 5,
   "metadata": {},
   "outputs": [
    {
     "data": {
      "text/plain": [
       "array([[0, 2, 4, 6],\n",
       "       [1, 3, 5, 7]])"
      ]
     },
     "execution_count": 5,
     "metadata": {},
     "output_type": "execute_result"
    }
   ],
   "source": [
    "#У функции reshape есть дополнительный именованный аргумент order. \n",
    "# Он задаёт принцип, по которому элементы заполняют массив новой формы. \n",
    "# Если order='C' (по умолчанию), массив заполняется по строкам, \n",
    "# как в примере выше. \n",
    "# Если order='F', массив заполняется числами по столбцам:\n",
    "\n",
    "arr = np.arange(8)\n",
    "arr_new = arr.reshape((2, 4), order='F')\n",
    "arr_new"
   ]
  },
  {
   "cell_type": "code",
   "execution_count": 7,
   "metadata": {},
   "outputs": [
    {
     "data": {
      "text/plain": [
       "array([[0, 4],\n",
       "       [1, 5],\n",
       "       [2, 6],\n",
       "       [3, 7]])"
      ]
     },
     "execution_count": 7,
     "metadata": {},
     "output_type": "execute_result"
    }
   ],
   "source": [
    "#Транспонирование - Эта операция меняет строки и столбцы массива местами.\n",
    "#В NumPy эту операцию совершает функция transpose.\n",
    "\n",
    "#Будем работать с двумерным массивом:\n",
    "\n",
    "arr = np.arange(8)\n",
    "arr.shape = (2, 4)\n",
    "arr\n",
    "# array([[0, 1, 2, 3],\n",
    "#        [4, 5, 6, 7]])\n",
    "#Транспонируем его:\n",
    "\n",
    "arr_trans = arr.transpose()\n",
    "arr_trans\n"
   ]
  },
  {
   "cell_type": "code",
   "execution_count": 8,
   "metadata": {},
   "outputs": [
    {
     "name": "stdout",
     "output_type": "stream",
     "text": [
      "(3,)\n",
      "(3,)\n"
     ]
    }
   ],
   "source": [
    "#При транспонировании одномерного массива его форма не меняется:\n",
    "\n",
    "arr = np.arange(3)\n",
    "print(arr.shape)\n",
    "# (3,)\n",
    "arr_trans = arr.transpose()\n",
    "print(arr_trans.shape)"
   ]
  },
  {
   "cell_type": "code",
   "execution_count": 9,
   "metadata": {},
   "outputs": [
    {
     "name": "stdout",
     "output_type": "stream",
     "text": [
      "1.4\n",
      "[1.4 1.6]\n",
      "[2.  1.8 1.6 1.4 1.2 1. ]\n"
     ]
    }
   ],
   "source": [
    "#ИНДЕКСЫ И СРЕЗЫ В МАССИВАХ\n",
    "\n",
    "#Создадим массив из шести чисел:\n",
    "\n",
    "arr = np.linspace(1, 2, 6)\n",
    "arr\n",
    "# array([1. , 1.2, 1.4, 1.6, 1.8, 2. ])\n",
    "#Обратиться к его элементу по индексу можно так же, как и к списку:\n",
    "\n",
    "print(arr[2])\n",
    "# 1.4\n",
    "#Привычная запись для срезов работает и для одномерных массивов:\n",
    "\n",
    "print(arr[2:4])\n",
    "# [1.4 1.6]\n",
    "#Наконец, напечатать массив в обратном порядке можно с помощью \n",
    "# привычной конструкции [::-1]:\n",
    "\n",
    "print(arr[::-1])\n",
    "# [2.  1.8 1.6 1.4 1.2 1. ]"
   ]
  },
  {
   "cell_type": "code",
   "execution_count": 10,
   "metadata": {},
   "outputs": [
    {
     "data": {
      "text/plain": [
       "array([[0. , 0.5, 1. , 1.5],\n",
       "       [2. , 2.5, 3. , 3.5],\n",
       "       [4. , 4.5, 5. , 5.5]])"
      ]
     },
     "execution_count": 10,
     "metadata": {},
     "output_type": "execute_result"
    }
   ],
   "source": [
    "#С многомерными массивами работать немного интереснее. \n",
    "# Создадим двумерный массив из одномерного:\n",
    "\n",
    "nd_array =  np.linspace(0, 6, 12, endpoint=False).reshape(3,4)\n",
    "nd_array"
   ]
  },
  {
   "cell_type": "code",
   "execution_count": 11,
   "metadata": {},
   "outputs": [
    {
     "data": {
      "text/plain": [
       "3.0"
      ]
     },
     "execution_count": 11,
     "metadata": {},
     "output_type": "execute_result"
    }
   ],
   "source": [
    "#Можно воспользоваться привычной записью нескольких \n",
    "# индексов в нескольких квадратных скобках:\n",
    "\n",
    "nd_array[1][2]"
   ]
  },
  {
   "cell_type": "code",
   "execution_count": 12,
   "metadata": {},
   "outputs": [
    {
     "data": {
      "text/plain": [
       "3.0"
      ]
     },
     "execution_count": 12,
     "metadata": {},
     "output_type": "execute_result"
    }
   ],
   "source": [
    "#в одних и тех же квадратных скобках перечислить индексы через запятую:\n",
    "\n",
    "nd_array[1, 2]"
   ]
  },
  {
   "cell_type": "code",
   "execution_count": 13,
   "metadata": {},
   "outputs": [
    {
     "data": {
      "text/plain": [
       "array([1., 3.])"
      ]
     },
     "execution_count": 13,
     "metadata": {},
     "output_type": "execute_result"
    }
   ],
   "source": [
    "#Также через запятую можно передавать срезы \n",
    "# или даже их комбинации с индексами. \n",
    "# Например, получим \n",
    "# все элементы из колонки 3 для первых двух строк:\n",
    "\n",
    "nd_array[:2, 2]"
   ]
  },
  {
   "cell_type": "code",
   "execution_count": 14,
   "metadata": {},
   "outputs": [
    {
     "data": {
      "text/plain": [
       "array([[3. , 3.5],\n",
       "       [5. , 5.5]])"
      ]
     },
     "execution_count": 14,
     "metadata": {},
     "output_type": "execute_result"
    }
   ],
   "source": [
    "#Можно применять срезы сразу и к строкам, и к столбцам:\n",
    "\n",
    "nd_array[1:, 2:4]"
   ]
  },
  {
   "cell_type": "code",
   "execution_count": 15,
   "metadata": {},
   "outputs": [
    {
     "data": {
      "text/plain": [
       "array([[1. , 1.5],\n",
       "       [3. , 3.5],\n",
       "       [5. , 5.5]])"
      ]
     },
     "execution_count": 15,
     "metadata": {},
     "output_type": "execute_result"
    }
   ],
   "source": [
    "#Чтобы получить все значения из какой-то оси, \n",
    "# можно оставить на её месте двоеточие. \n",
    "# Например, из всех строк получим срез с третьего по четвёртый столбцы:\n",
    "\n",
    "nd_array[:, 2:4]"
   ]
  },
  {
   "cell_type": "code",
   "execution_count": 17,
   "metadata": {},
   "outputs": [
    {
     "data": {
      "text/plain": [
       "array([[0. , 0.5, 1. , 1.5],\n",
       "       [2. , 2.5, 3. , 3.5]])"
      ]
     },
     "execution_count": 17,
     "metadata": {},
     "output_type": "execute_result"
    }
   ],
   "source": [
    "#Чтобы получить самую последнюю ось \n",
    "# (в данном случае все столбцы), \n",
    "# двоеточие писать необязательно. \n",
    "# Строки будут получены целиком по умолчанию:\n",
    "\n",
    "nd_array[:2]"
   ]
  },
  {
   "cell_type": "code",
   "execution_count": null,
   "metadata": {},
   "outputs": [],
   "source": [
    "#Задание 7.2\n",
    "\n",
    "try:\n",
    "    from Root.src.hidden import mystery\n",
    "except ImportError:\n",
    "    from hidden import mystery\n",
    "    \n",
    "# В переменную elem_5_3 сохраните элемент из 5 строки и 3 столбца:\n",
    "elem_5_3 = None\n",
    "elem_5_3 = mystery[4,2]\n",
    "# В переменную last сохраните элемент из последней строки последнего столбца\n",
    "last = None\n",
    "last = mystery[-1,-1]\n",
    "# В переменную line_4 сохраните строку 4\n",
    "line_4 = None\n",
    "line_4 = mystery[3]\n",
    "# В переменную col_2 сохраните предпоследний столбец\n",
    "col_2 = None\n",
    "col_2 = mystery[:,-2]\n",
    "# Из строк 2-4 (включительно) получите столбцы 3-5 (включительно)\n",
    "# Результат сохраните в переменную part\n",
    "part = None\n",
    "part = mystery[1:4,2:5]\n",
    "#  Сохраните в переменную rev последний столбец в обратном порядке\n",
    "rev = None\n",
    "a = mystery[:,-1]\n",
    "rev = a[::-1]\n",
    "# Сохраните в переменную trans транспонированный массив\n",
    "trans = None\n",
    "trans = mystery.transpose()"
   ]
  },
  {
   "cell_type": "code",
   "execution_count": 20,
   "metadata": {},
   "outputs": [
    {
     "name": "stdout",
     "output_type": "stream",
     "text": [
      "[23 12 45 12 23  4 15  3]\n",
      "[ 3  4 12 12 15 23 23 45]\n"
     ]
    }
   ],
   "source": [
    "#СОРТИРОВКА ОДНОМЕРНЫХ МАССИВОВ\n",
    "\n",
    "# функция .sort\n",
    "\n",
    "#Способ 1. Функция np.sort(<массив>) возвращает новый отсортированный массив:\n",
    "\n",
    "arr = np.array([23,12,45,12,23,4,15,3])\n",
    "arr_new = np.sort(arr)\n",
    "print(arr)\n",
    "# [23 12 45 12 23  4 15  3]\n",
    "print(arr_new)\n",
    "# [ 3  4 12 12 15 23 23 45]"
   ]
  },
  {
   "cell_type": "code",
   "execution_count": 21,
   "metadata": {},
   "outputs": [
    {
     "name": "stdout",
     "output_type": "stream",
     "text": [
      "None\n",
      "[ 3  4 12 12 15 23 23 45]\n"
     ]
    }
   ],
   "source": [
    "#Способ 2. Функция <массив>.sort() сортирует исходный массив и возвращает None:\n",
    "\n",
    "arr = np.array([23,12,45,12,23,4,15,3])\n",
    "print(arr.sort())\n",
    "# None\n",
    "print(arr)\n",
    "# [ 3  4 12 12 15 23 23 45]"
   ]
  },
  {
   "cell_type": "code",
   "execution_count": 32,
   "metadata": {},
   "outputs": [
    {
     "name": "stderr",
     "output_type": "stream",
     "text": [
      "C:\\Users\\User\\AppData\\Local\\Temp\\ipykernel_6800\\1272944308.py:7: RuntimeWarning: invalid value encountered in sqrt\n",
      "  roots = np.sqrt(data)\n"
     ]
    },
    {
     "data": {
      "text/plain": [
       "array([2.        , 3.        ,        nan, 1.73205081,        nan])"
      ]
     },
     "execution_count": 32,
     "metadata": {},
     "output_type": "execute_result"
    }
   ],
   "source": [
    "#РАБОТА С ПРОПУЩЕННЫМИ ДАННЫМИ\n",
    "\n",
    "data = np.array([4, 9, -4, 3,-5])\n",
    "#Воспользуемся встроенной в NumPy функцией sqrt, \n",
    "# чтобы посчитать квадратные корни из элементов.\n",
    "\n",
    "roots = np.sqrt(data)\n",
    "roots"
   ]
  },
  {
   "cell_type": "code",
   "execution_count": 23,
   "metadata": {},
   "outputs": [
    {
     "name": "stdout",
     "output_type": "stream",
     "text": [
      "<class 'NoneType'>\n",
      "<class 'float'>\n"
     ]
    },
    {
     "data": {
      "text/plain": [
       "float"
      ]
     },
     "execution_count": 23,
     "metadata": {},
     "output_type": "execute_result"
    }
   ],
   "source": [
    "# nan  Он расшифровывается как Not a number (не число). \n",
    "# Этот объект аналогичен встроенному типу None, \n",
    "# но имеет несколько отличий:\n",
    "#Отличие 1. None является отдельным объектом типа NoneType. np.nan — это отдельный представитель класса float:\n",
    "\n",
    "print(type(None))\n",
    "# <class 'NoneType'>\n",
    "print(type(np.nan))\n",
    "# <class 'float'>\n",
    "type(np.nan)"
   ]
  },
  {
   "cell_type": "code",
   "execution_count": 24,
   "metadata": {},
   "outputs": [
    {
     "name": "stdout",
     "output_type": "stream",
     "text": [
      "True\n",
      "False\n",
      "True\n",
      "True\n",
      "False\n"
     ]
    }
   ],
   "source": [
    "#Отличие 2. None могут быть равны друг другу, а np.nan — нет:\n",
    "\n",
    "print(None == None)\n",
    "# True\n",
    "print(np.nan == np.nan)\n",
    "# False\n",
    "#Как вы помните, чтобы грамотно сравнить что-либо с None, необходимо использовать оператор is. Это ещё более актуально для np.nan. Однако None даже через is не является эквивалентным np.nan:\n",
    "\n",
    "print(None is None)\n",
    "# True\n",
    "print(np.nan is np.nan)\n",
    "# True\n",
    "print(np.nan is None)\n",
    "# False"
   ]
  },
  {
   "cell_type": "code",
   "execution_count": 33,
   "metadata": {},
   "outputs": [
    {
     "data": {
      "text/plain": [
       "nan"
      ]
     },
     "execution_count": 33,
     "metadata": {},
     "output_type": "execute_result"
    }
   ],
   "source": [
    "#Если попробовать посчитать сумму массива, \n",
    "# который содержит np.nan, в итоге получится nan:\n",
    "sum(roots)"
   ]
  },
  {
   "cell_type": "code",
   "execution_count": 34,
   "metadata": {},
   "outputs": [
    {
     "data": {
      "text/plain": [
       "array([False, False,  True, False,  True])"
      ]
     },
     "execution_count": 34,
     "metadata": {},
     "output_type": "execute_result"
    }
   ],
   "source": [
    "#Что же делать?\n",
    "\n",
    "#Можно заполнить пропущенные значения, например, нулями. \n",
    "# Для этого с помощью функции np.isnan(<массив>) узнаем, \n",
    "# на каких местах в массиве находятся «не числа»:\n",
    "\n",
    "np.isnan(roots)"
   ]
  },
  {
   "cell_type": "code",
   "execution_count": 35,
   "metadata": {},
   "outputs": [
    {
     "data": {
      "text/plain": [
       "array([nan, nan])"
      ]
     },
     "execution_count": 35,
     "metadata": {},
     "output_type": "execute_result"
    }
   ],
   "source": [
    "#Можно использовать полученный массив из True и False \n",
    "# для извлечения элементов из массива roots, \n",
    "# на месте которых в булевом массиве указано True. \n",
    "# Таким способом можно узнать сами элементы, которые удовлетворяют условию np.isnan:\n",
    "\n",
    "roots[np.isnan(roots)]"
   ]
  },
  {
   "cell_type": "code",
   "execution_count": 28,
   "metadata": {},
   "outputs": [
    {
     "data": {
      "text/plain": [
       "array([2.        , 3.        , 0.        , 1.73205081])"
      ]
     },
     "execution_count": 28,
     "metadata": {},
     "output_type": "execute_result"
    }
   ],
   "source": [
    "#Этим элементам можно присвоить новые значения, например 0:\n",
    "\n",
    "roots[np.isnan(roots)] = 0\n",
    "roots"
   ]
  },
  {
   "cell_type": "code",
   "execution_count": 29,
   "metadata": {},
   "outputs": [
    {
     "data": {
      "text/plain": [
       "6.732050807568877"
      ]
     },
     "execution_count": 29,
     "metadata": {},
     "output_type": "execute_result"
    }
   ],
   "source": [
    "#После этого, если пропущенных значений больше нет,\n",
    "# можем подсчитать сумму элементов массива:\n",
    "\n",
    "sum(roots)"
   ]
  },
  {
   "cell_type": "code",
   "execution_count": 31,
   "metadata": {},
   "outputs": [
    {
     "data": {
      "text/plain": [
       "True"
      ]
     },
     "execution_count": 31,
     "metadata": {},
     "output_type": "execute_result"
    }
   ],
   "source": [
    "np.isnan(np.nan)"
   ]
  },
  {
   "cell_type": "code",
   "execution_count": null,
   "metadata": {},
   "outputs": [],
   "source": [
    "#Задание Задание 7.4\n",
    "\n",
    "try:\n",
    "    from Root.src.hidden import mystery\n",
    "except ImportError:\n",
    "    from hidden import mystery\n",
    "import numpy as np\n",
    "\n",
    "# Получите булевый массив с информацией о np.nan \n",
    "# в массиве mystery\n",
    "# True - значение пропущено, \n",
    "# False - значение не пропущено\n",
    "nans_index = None\n",
    "nans_index = np.isnan(mystery)\n",
    "\n",
    "# В переменную n_nan сохраните число пропущенных значений\n",
    "n_nan = None\n",
    "n_nan = len(nans_index[np.isnan(mystery)])\n",
    "\n",
    "# Заполните пропущенные значения в массиве mystery нулями\n",
    "mystery[np.isnan(mystery)] = 0\n",
    "\n",
    "\n",
    "# Поменяйте тип данных в массиве mystery на int32\n",
    "mystery = np.int32(mystery)\n",
    "\n",
    "\n",
    "# Отсортируйте значения в массиве по возрастанию и сохраните\n",
    "# результат в переменную array\n",
    "array = None\n",
    "array = np.sort(mystery)\n",
    "# Сохраните в массив table двухмерный массив, полученный из массива array\n",
    "# В нём должно быть 5 строк и 3 столбца. Причём порядок заполнения должен быть\n",
    "# по столбцам! Например, 1, 2, 3, 4 -> 1    3\n",
    "#                                      2    4\n",
    "table = None\n",
    "table = array.reshape((5, 3), order='F')\n",
    "#  Сохраните в переменную col средний столбец из table\n",
    "col = None\n",
    "col = table[:,1]"
   ]
  }
 ],
 "metadata": {
  "kernelspec": {
   "display_name": "Python 3.9.10 64-bit",
   "language": "python",
   "name": "python3"
  },
  "language_info": {
   "codemirror_mode": {
    "name": "ipython",
    "version": 3
   },
   "file_extension": ".py",
   "mimetype": "text/x-python",
   "name": "python",
   "nbconvert_exporter": "python",
   "pygments_lexer": "ipython3",
   "version": "3.9.10"
  },
  "orig_nbformat": 4,
  "vscode": {
   "interpreter": {
    "hash": "cf92aa13fedf815d5c8dd192b8d835913fde3e8bc926b2a0ad6cc74ef2ba3ca2"
   }
  }
 },
 "nbformat": 4,
 "nbformat_minor": 2
}
