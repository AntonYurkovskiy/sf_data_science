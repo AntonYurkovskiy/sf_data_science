{
 "cells": [
  {
   "cell_type": "code",
   "execution_count": null,
   "metadata": {},
   "outputs": [],
   "source": [
    "import numpy as np\n",
    "a = np.int32(1000)\n",
    "print(a)\n",
    "# 1000\n",
    "print(type(a))\n",
    "# <class 'numpy.int32'>\n",
    "a = 2056\n",
    "print(a)\n",
    "# 2056\n",
    "print(type(a))\n",
    "# <class 'int'>"
   ]
  },
  {
   "cell_type": "code",
   "execution_count": 18,
   "metadata": {},
   "outputs": [
    {
     "name": "stdout",
     "output_type": "stream",
     "text": [
      "1000\n",
      "<class 'numpy.int32'>\n",
      "2056\n",
      "<class 'numpy.int32'>\n"
     ]
    }
   ],
   "source": [
    "a = np.int32(1000)\n",
    "print(a)\n",
    "# 1000\n",
    "print(type(a))\n",
    "# <class 'numpy.int32'>\n",
    "a = np.int32(2056)\n",
    "print(a)\n",
    "# 2056\n",
    "print(type(a))\n",
    "# <class 'numpy.int32'>"
   ]
  },
  {
   "cell_type": "code",
   "execution_count": 19,
   "metadata": {},
   "outputs": [
    {
     "name": "stdout",
     "output_type": "stream",
     "text": [
      "1025\n",
      "<class 'numpy.int32'>\n"
     ]
    }
   ],
   "source": [
    "a = np.int32(1000)\n",
    "b = a + 25\n",
    "print(b)\n",
    "# 1025\n",
    "print(type(b))\n",
    "# <class 'numpy.int64'>"
   ]
  },
  {
   "cell_type": "code",
   "execution_count": 20,
   "metadata": {},
   "outputs": [
    {
     "name": "stdout",
     "output_type": "stream",
     "text": [
      "1025\n",
      "<class 'numpy.int32'>\n"
     ]
    }
   ],
   "source": [
    "a = np.int32(1000)\n",
    "b = np.int8(25)\n",
    "c = a + b\n",
    "print(c)\n",
    "# 1025\n",
    "print(type(c))\n",
    "# <class 'numpy.int32'>"
   ]
  },
  {
   "cell_type": "code",
   "execution_count": 22,
   "metadata": {},
   "outputs": [
    {
     "name": "stdout",
     "output_type": "stream",
     "text": [
      "2147483610 2147483605\n",
      "-81\n"
     ]
    },
    {
     "name": "stderr",
     "output_type": "stream",
     "text": [
      "C:\\Users\\User\\AppData\\Local\\Temp\\ipykernel_9232\\867502563.py:5: RuntimeWarning: overflow encountered in long_scalars\n",
      "  print(a + b)\n"
     ]
    }
   ],
   "source": [
    "a = np.int32(2147483610)\n",
    "b = np.int32(2147483605)\n",
    "print(a, b)\n",
    "# 2147483610 2147483605\n",
    "print(a + b)"
   ]
  },
  {
   "cell_type": "code",
   "execution_count": 23,
   "metadata": {},
   "outputs": [
    {
     "name": "stdout",
     "output_type": "stream",
     "text": [
      "2147483610 2147483605\n",
      "4294967215\n"
     ]
    }
   ],
   "source": [
    "a = np.int32(2147483610)\n",
    "b = np.int32(2147483605)\n",
    "print(a, b)\n",
    "# 2147483610 2147483605\n",
    "print(np.int64(a) + np.int64(b))"
   ]
  },
  {
   "cell_type": "code",
   "execution_count": 27,
   "metadata": {},
   "outputs": [
    {
     "name": "stdout",
     "output_type": "stream",
     "text": [
      "4.12\n",
      "4.13\n",
      "4.12\n",
      "4.125\n",
      "4.125\n"
     ]
    }
   ],
   "source": [
    "print(np.float16(4.12))\n",
    "# 4.12\n",
    "print(np.float16(4.13))\n",
    "# 4.13\n",
    "print(np.float16(4.123))\n",
    "# 4.12\n",
    "print(np.float16(4.124))\n",
    "# 4.125\n",
    "print(np.float16(4.125))\n",
    "\n"
   ]
  },
  {
   "cell_type": "code",
   "execution_count": 33,
   "metadata": {},
   "outputs": [
    {
     "name": "stdout",
     "output_type": "stream",
     "text": [
      "132\n",
      "<class 'numpy.bool_'>\n",
      "<class 'numpy.bytes_'>\n",
      "<class 'numpy.clongdouble'>\n",
      "<class 'numpy.complex128'>\n",
      "<class 'numpy.complex64'>\n",
      "<class 'numpy.datetime64'>\n",
      "<class 'numpy.float16'>\n",
      "<class 'numpy.float32'>\n",
      "<class 'numpy.float64'>\n",
      "<class 'numpy.int16'>\n",
      "<class 'numpy.int32'>\n",
      "<class 'numpy.int64'>\n",
      "<class 'numpy.int8'>\n",
      "<class 'numpy.intc'>\n",
      "<class 'numpy.longdouble'>\n",
      "<class 'numpy.object_'>\n",
      "<class 'numpy.str_'>\n",
      "<class 'numpy.timedelta64'>\n",
      "<class 'numpy.uint16'>\n",
      "<class 'numpy.uint32'>\n",
      "<class 'numpy.uint64'>\n",
      "<class 'numpy.uint8'>\n",
      "<class 'numpy.uintc'>\n",
      "<class 'numpy.void'>\n"
     ]
    },
    {
     "ename": "TypeError",
     "evalue": "len() takes no keyword arguments",
     "output_type": "error",
     "traceback": [
      "\u001b[1;31m---------------------------------------------------------------------------\u001b[0m",
      "\u001b[1;31mTypeError\u001b[0m                                 Traceback (most recent call last)",
      "Cell \u001b[1;32mIn [33], line 3\u001b[0m\n\u001b[0;32m      1\u001b[0m \u001b[38;5;28mprint\u001b[39m(\u001b[38;5;28mlen\u001b[39m(np\u001b[38;5;241m.\u001b[39msctypeDict))\n\u001b[0;32m      2\u001b[0m \u001b[38;5;28mprint\u001b[39m(\u001b[38;5;241m*\u001b[39m\u001b[38;5;28msorted\u001b[39m(\u001b[38;5;28mmap\u001b[39m(\u001b[38;5;28mstr\u001b[39m, \u001b[38;5;28mset\u001b[39m(np\u001b[38;5;241m.\u001b[39msctypeDict\u001b[38;5;241m.\u001b[39mvalues()))), sep\u001b[38;5;241m=\u001b[39m\u001b[38;5;124m'\u001b[39m\u001b[38;5;130;01m\\n\u001b[39;00m\u001b[38;5;124m'\u001b[39m)\n\u001b[1;32m----> 3\u001b[0m \u001b[38;5;28mprint\u001b[39m(\u001b[38;5;28mlen\u001b[39m(\u001b[38;5;241m*\u001b[39m\u001b[38;5;28msorted\u001b[39m(\u001b[38;5;28mmap\u001b[39m(\u001b[38;5;28mstr\u001b[39m, \u001b[38;5;28mset\u001b[39m(np\u001b[38;5;241m.\u001b[39msctypeDict\u001b[38;5;241m.\u001b[39mvalues()))), sep\u001b[38;5;241m=\u001b[39m\u001b[38;5;124m'\u001b[39m\u001b[38;5;130;01m\\n\u001b[39;00m\u001b[38;5;124m'\u001b[39m))\n",
      "\u001b[1;31mTypeError\u001b[0m: len() takes no keyword arguments"
     ]
    }
   ],
   "source": [
    "print(len(np.sctypeDict))\n",
    "print(*sorted(map(str, set(np.sctypeDict.values()))), sep='\\n')\n",
    "print(len(*sorted(map(str, set(np.sctypeDict.values()))), sep='\\n'))"
   ]
  },
  {
   "cell_type": "code",
   "execution_count": 35,
   "metadata": {},
   "outputs": [
    {
     "name": "stdout",
     "output_type": "stream",
     "text": [
      "<class 'bool'>\n",
      "<class 'bool'>\n",
      "<class 'numpy.bool_'>\n",
      "True\n",
      "False\n"
     ]
    },
    {
     "name": "stderr",
     "output_type": "stream",
     "text": [
      "C:\\Users\\User\\AppData\\Local\\Temp\\ipykernel_9232\\1122834797.py:4: DeprecationWarning: `np.bool` is a deprecated alias for the builtin `bool`. To silence this warning, use `bool` by itself. Doing this will not modify any behavior and is safe. If you specifically wanted the numpy scalar type, use `np.bool_` here.\n",
      "Deprecated in NumPy 1.20; for more details and guidance: https://numpy.org/devdocs/release/1.20.0-notes.html#deprecations\n",
      "  a = np.bool(a)\n",
      "C:\\Users\\User\\AppData\\Local\\Temp\\ipykernel_9232\\1122834797.py:12: DeprecationWarning: `np.bool` is a deprecated alias for the builtin `bool`. To silence this warning, use `bool` by itself. Doing this will not modify any behavior and is safe. If you specifically wanted the numpy scalar type, use `np.bool_` here.\n",
      "Deprecated in NumPy 1.20; for more details and guidance: https://numpy.org/devdocs/release/1.20.0-notes.html#deprecations\n",
      "  print(np.bool(True) == np.bool_(True))\n",
      "C:\\Users\\User\\AppData\\Local\\Temp\\ipykernel_9232\\1122834797.py:15: DeprecationWarning: `np.bool` is a deprecated alias for the builtin `bool`. To silence this warning, use `bool` by itself. Doing this will not modify any behavior and is safe. If you specifically wanted the numpy scalar type, use `np.bool_` here.\n",
      "Deprecated in NumPy 1.20; for more details and guidance: https://numpy.org/devdocs/release/1.20.0-notes.html#deprecations\n",
      "  print(type(np.bool(True)) == type(np.bool_(True)))\n"
     ]
    }
   ],
   "source": [
    "a = True\n",
    "print(type(a))\n",
    "# <class 'bool'>\n",
    "a = np.bool(a)\n",
    "print(type(a))\n",
    "# <class 'bool'>\n",
    "a = np.bool_(a)\n",
    "print(type(a))\n",
    "# <class 'numpy.bool_'>\n",
    " \n",
    "# Значения равны\n",
    "print(np.bool(True) == np.bool_(True))\n",
    "# True\n",
    "# А типы — нет:\n",
    "print(type(np.bool(True)) == type(np.bool_(True)))\n",
    "# False"
   ]
  },
  {
   "cell_type": "code",
   "execution_count": 36,
   "metadata": {},
   "outputs": [
    {
     "name": "stdout",
     "output_type": "stream",
     "text": [
      "<class 'str'>\n",
      "<class 'str'>\n",
      "<class 'numpy.str_'>\n"
     ]
    },
    {
     "name": "stderr",
     "output_type": "stream",
     "text": [
      "C:\\Users\\User\\AppData\\Local\\Temp\\ipykernel_9232\\985064762.py:4: DeprecationWarning: `np.str` is a deprecated alias for the builtin `str`. To silence this warning, use `str` by itself. Doing this will not modify any behavior and is safe. If you specifically wanted the numpy scalar type, use `np.str_` here.\n",
      "Deprecated in NumPy 1.20; for more details and guidance: https://numpy.org/devdocs/release/1.20.0-notes.html#deprecations\n",
      "  a = np.str(a)\n"
     ]
    }
   ],
   "source": [
    "a = \"Hello world!\"\n",
    "print(type(a))\n",
    "# <class 'str'>\n",
    "a = np.str(a)\n",
    "print(type(a))\n",
    "# <class 'str'>\n",
    "a = np.str_(a)\n",
    "print(type(a))\n",
    "# <class 'numpy.str_'>"
   ]
  },
  {
   "cell_type": "code",
   "execution_count": 37,
   "metadata": {},
   "outputs": [
    {
     "name": "stdout",
     "output_type": "stream",
     "text": [
      "56\n"
     ]
    }
   ],
   "source": [
    "print(np.uint8(-456))"
   ]
  }
 ],
 "metadata": {
  "kernelspec": {
   "display_name": "Python 3.9.10 64-bit",
   "language": "python",
   "name": "python3"
  },
  "language_info": {
   "codemirror_mode": {
    "name": "ipython",
    "version": 3
   },
   "file_extension": ".py",
   "mimetype": "text/x-python",
   "name": "python",
   "nbconvert_exporter": "python",
   "pygments_lexer": "ipython3",
   "version": "3.9.10"
  },
  "orig_nbformat": 4,
  "vscode": {
   "interpreter": {
    "hash": "cf92aa13fedf815d5c8dd192b8d835913fde3e8bc926b2a0ad6cc74ef2ba3ca2"
   }
  }
 },
 "nbformat": 4,
 "nbformat_minor": 2
}
