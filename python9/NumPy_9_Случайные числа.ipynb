{
 "cells": [
  {
   "cell_type": "code",
   "execution_count": 1,
   "metadata": {},
   "outputs": [
    {
     "data": {
      "text/plain": [
       "0.6274450473407642"
      ]
     },
     "execution_count": 1,
     "metadata": {},
     "output_type": "execute_result"
    }
   ],
   "source": [
    "# СЛУЧАЙНЫЕ ЧИСЛА В NUMPY\n",
    "\n",
    "# ГЕНЕРАЦИЯ FLOAT\n",
    "\n",
    "# Для генерации псевдослучайных чисел в NumPy существует подмодуль random.\n",
    "\n",
    "#Самой «базовой» функцией в нём можно считать функцию rand. По умолчанию она генерирует число с плавающей точкой между 0 (включительно) и 1 (не включительно):\n",
    "\n",
    "import numpy as np\n",
    "np.random.rand()"
   ]
  },
  {
   "cell_type": "code",
   "execution_count": 7,
   "metadata": {},
   "outputs": [
    {
     "data": {
      "text/plain": [
       "16.06479903655097"
      ]
     },
     "execution_count": 7,
     "metadata": {},
     "output_type": "execute_result"
    }
   ],
   "source": [
    "# Чтобы получить случайное число в диапазоне, например, от 0 до 100, достаточно просто умножить генерируемое число на 100:\n",
    "\n",
    "np.random.rand() * 100"
   ]
  },
  {
   "cell_type": "code",
   "execution_count": 10,
   "metadata": {},
   "outputs": [
    {
     "data": {
      "text/plain": [
       "array([0.23286575, 0.91070903, 0.27999692, 0.0048704 , 0.78119244])"
      ]
     },
     "execution_count": 10,
     "metadata": {},
     "output_type": "execute_result"
    }
   ],
   "source": [
    "# На самом деле rand умеет генерировать не только отдельные числа — функция принимает в качестве аргументов через запятую целые числа, которые задают форму генерируемого массива. Например, получим массив из пяти случайных чисел:\n",
    "\n",
    "np.random.rand(5)"
   ]
  },
  {
   "cell_type": "code",
   "execution_count": 16,
   "metadata": {},
   "outputs": [
    {
     "data": {
      "text/plain": [
       "array([[0.40651633, 0.31479559, 0.88558934],\n",
       "       [0.17976823, 0.10615043, 0.26099086]])"
      ]
     },
     "execution_count": 16,
     "metadata": {},
     "output_type": "execute_result"
    }
   ],
   "source": [
    "# Массив из двух случайных строк и трёх столбцов:\n",
    "\n",
    "np.random.rand(2, 3)"
   ]
  },
  {
   "cell_type": "code",
   "execution_count": null,
   "metadata": {},
   "outputs": [],
   "source": [
    "# Функция rand может принимать неограниченное число целых чисел для задания формы массива:\n",
    "\n",
    "np.random.rand(2, 3, 4, 10)\n",
    "\n",
    "# Обратите внимание, что обычно форму массивов мы задавали в функциях NumPy одним числом или кортежем, а не перечисляли её в виде аргументов через запятую."
   ]
  },
  {
   "cell_type": "code",
   "execution_count": 3,
   "metadata": {},
   "outputs": [
    {
     "ename": "TypeError",
     "evalue": "'tuple' object cannot be interpreted as an integer",
     "output_type": "error",
     "traceback": [
      "\u001b[1;31m---------------------------------------------------------------------------\u001b[0m",
      "\u001b[1;31mTypeError\u001b[0m                                 Traceback (most recent call last)",
      "Cell \u001b[1;32mIn [3], line 4\u001b[0m\n\u001b[0;32m      1\u001b[0m \u001b[39m# Если передать в rand кортеж, возникнет ошибка:\u001b[39;00m\n\u001b[0;32m      3\u001b[0m shape \u001b[39m=\u001b[39m (\u001b[39m3\u001b[39m, \u001b[39m4\u001b[39m)\n\u001b[1;32m----> 4\u001b[0m np\u001b[39m.\u001b[39mrandom\u001b[39m.\u001b[39mrand(shape)\n",
      "File \u001b[1;32mmtrand.pyx:1182\u001b[0m, in \u001b[0;36mnumpy.random.mtrand.RandomState.rand\u001b[1;34m()\u001b[0m\n",
      "File \u001b[1;32mmtrand.pyx:425\u001b[0m, in \u001b[0;36mnumpy.random.mtrand.RandomState.random_sample\u001b[1;34m()\u001b[0m\n",
      "File \u001b[1;32m_common.pyx:307\u001b[0m, in \u001b[0;36mnumpy.random._common.double_fill\u001b[1;34m()\u001b[0m\n",
      "\u001b[1;31mTypeError\u001b[0m: 'tuple' object cannot be interpreted as an integer"
     ]
    }
   ],
   "source": [
    "# Если передать в rand кортеж, возникнет ошибка:\n",
    "\n",
    "shape = (3, 4)\n",
    "np.random.rand(shape)"
   ]
  },
  {
   "cell_type": "code",
   "execution_count": 4,
   "metadata": {},
   "outputs": [
    {
     "data": {
      "text/plain": [
       "array([[0.82844151, 0.12373461, 0.83185081, 0.22935784],\n",
       "       [0.22547756, 0.61832216, 0.18677143, 0.40590085],\n",
       "       [0.18054439, 0.95538109, 0.95227354, 0.96065904]])"
      ]
     },
     "execution_count": 4,
     "metadata": {},
     "output_type": "execute_result"
    }
   ],
   "source": [
    "# Конечно, можно было бы распаковать кортеж, чтобы избавиться от ошибки:\n",
    "\n",
    "shape = (3, 4)\n",
    "np.random.rand(*shape)"
   ]
  },
  {
   "cell_type": "code",
   "execution_count": 24,
   "metadata": {},
   "outputs": [
    {
     "data": {
      "text/plain": [
       "array([[0.31983088, 0.42325145, 0.79880056],\n",
       "       [0.3772742 , 0.18577547, 0.94028706]])"
      ]
     },
     "execution_count": 24,
     "metadata": {},
     "output_type": "execute_result"
    }
   ],
   "source": [
    "#Но в NumPy есть и другая \n",
    "# функция, генерирующая массивы случайных чисел от 0 до 1, \n",
    "# которая принимает в качестве аргумента именно кортеж без распаковки. \n",
    "# Она называется sample:\n",
    "\n",
    "shape = (2, 3)\n",
    "np.random.sample(shape)\n",
    "\n",
    "# Возможно, именно функция sample покажется вам удобнее, \n",
    "# поскольку информацию о форме массива \n",
    "# обычно удобнее хранить в коде в виде кортежа\n",
    "# и не задумываться потом о его распаковке. \n",
    "# В остальном функция sample не отличается от rand."
   ]
  },
  {
   "cell_type": "code",
   "execution_count": 11,
   "metadata": {},
   "outputs": [
    {
     "data": {
      "text/plain": [
       "array([[0.47049608, 0.86765369, 0.78472438, 0.28437159, 0.50742498],\n",
       "       [0.41756829, 0.06765565, 0.40225763, 0.75966224, 0.66969102],\n",
       "       [0.18601835, 0.06671981, 0.71764583, 0.53560162, 0.75775221],\n",
       "       [0.64140813, 0.56055233, 0.00636632, 0.41168359, 0.14995651],\n",
       "       [0.21736373, 0.89264427, 0.63979987, 0.4544018 , 0.13035581]])"
      ]
     },
     "execution_count": 11,
     "metadata": {},
     "output_type": "execute_result"
    }
   ],
   "source": [
    "#Не всегда требуются числа в диапазоне именно от 0 до 1.\n",
    "# На самом деле с помощью специальных формул\n",
    "# можно из диапазона от 0 до 1 получить\n",
    "# любой другой желаемый диапазон,\n",
    "# однако это не требуется делать самостоятельно\n",
    "# — в NumPy доступна функция uniform:\n",
    "\n",
    "np.random.uniform(low=0.0, high=1.0, size=(5,5))\n",
    "\n",
    "#Первые два аргумента — нижняя и верхняя границы диапазона\n",
    "# в формате float, третий опциональный аргумент — форма массива\n",
    "# (если не задан, возвращается одно число).\n",
    "# Форма массива задаётся кортежем или одним числом."
   ]
  },
  {
   "cell_type": "code",
   "execution_count": 13,
   "metadata": {},
   "outputs": [
    {
     "data": {
      "text/plain": [
       "0.30077156253625836"
      ]
     },
     "execution_count": 13,
     "metadata": {},
     "output_type": "execute_result"
    }
   ],
   "source": [
    "# Запуск без аргументов эквивалентен работе функций rand или sample:\n",
    "\n",
    "np.random.uniform()"
   ]
  },
  {
   "cell_type": "code",
   "execution_count": 33,
   "metadata": {},
   "outputs": [
    {
     "data": {
      "text/plain": [
       "44.37862630044346"
      ]
     },
     "execution_count": 33,
     "metadata": {},
     "output_type": "execute_result"
    }
   ],
   "source": [
    "# Зададим границы диапазона от -30 до 50:\n",
    "\n",
    "np.random.uniform(-30, 50)"
   ]
  },
  {
   "cell_type": "code",
   "execution_count": 35,
   "metadata": {},
   "outputs": [
    {
     "data": {
      "text/plain": [
       "array([0.63250748, 0.50257155, 0.74366109, 0.56519248, 0.66222094])"
      ]
     },
     "execution_count": 35,
     "metadata": {},
     "output_type": "execute_result"
    }
   ],
   "source": [
    "# Получим пять чисел в интервале от 0.5 до 0.75:\n",
    "\n",
    "np.random.uniform(0.5, 0.75, size=5)"
   ]
  },
  {
   "cell_type": "code",
   "execution_count": 39,
   "metadata": {},
   "outputs": [
    {
     "data": {
      "text/plain": [
       "array([[ 407.94869934,  339.34870466, -697.52069826],\n",
       "       [-552.96990493,  336.39803794, -785.18779455]])"
      ]
     },
     "execution_count": 39,
     "metadata": {},
     "output_type": "execute_result"
    }
   ],
   "source": [
    "# Получим массив из двух строк и трёх столбцов\n",
    "# из чисел в интервале от -1000 до 500:\n",
    "\n",
    "np.random.uniform(-1000, 500, size=(2, 3))"
   ]
  },
  {
   "cell_type": "code",
   "execution_count": null,
   "metadata": {},
   "outputs": [],
   "source": [
    "# ГЕНЕРАЦИЯ INT\n",
    "\n",
    "#Не всегда требуется генерировать числа с плавающей точкой.\n",
    "# Иногда бывает удобно получить целые числа int \n",
    "# (например, для поля игры в лото).\n",
    "# Для генерации целых чисел используется функция random.randint:\n",
    "\n",
    "randint(low, high=None, size=None, dtype=int)\n",
    "\n"
   ]
  },
  {
   "cell_type": "code",
   "execution_count": 43,
   "metadata": {},
   "outputs": [
    {
     "data": {
      "text/plain": [
       "array([[1, 3, 3],\n",
       "       [2, 1, 0]])"
      ]
     },
     "execution_count": 43,
     "metadata": {},
     "output_type": "execute_result"
    }
   ],
   "source": [
    "#Функцию randint нельзя запустить совсем без параметров,\n",
    "# необходимо указать хотя бы одно число.\n",
    "\n",
    "#Если указан только аргумент low, \n",
    "# числа будут генерироваться от 0 до low-1,\n",
    "# то есть верхняя граница не включается.\n",
    "\n",
    "# Если задать low и high, числа будут генерироваться от low (включительно)\n",
    "# до high (не включительно).\n",
    "\n",
    "# size задаёт форму массива уже привычным для вас образом:\n",
    "# одним числом — для одномерного или кортежем — для многомерного.\n",
    "\n",
    "# dtype позволяет задать конкретный тип данных,\n",
    "# который должен быть использован в массиве.\n",
    "\n",
    "# Сгенерируем таблицу 2x3 от 0 до 3 включительно:\n",
    "\n",
    "np.random.randint(4, size=(2,3))"
   ]
  },
  {
   "cell_type": "code",
   "execution_count": 49,
   "metadata": {},
   "outputs": [
    {
     "data": {
      "text/plain": [
       "array([[ 8,  8,  7],\n",
       "       [11,  6,  7],\n",
       "       [ 9, 10,  8]])"
      ]
     },
     "execution_count": 49,
     "metadata": {},
     "output_type": "execute_result"
    }
   ],
   "source": [
    "#Чтобы задать и нижнюю, и верхнюю границы самостоятельно,\n",
    "# передадим два числа, а затем форму:\n",
    "\n",
    "np.random.randint(6, 12, size=(3,3))"
   ]
  },
  {
   "cell_type": "code",
   "execution_count": 60,
   "metadata": {},
   "outputs": [
    {
     "name": "stdout",
     "output_type": "stream",
     "text": [
      "[0 1 2 3 4 5]\n",
      "None\n"
     ]
    },
    {
     "data": {
      "text/plain": [
       "array([0, 2, 5, 1, 3, 4])"
      ]
     },
     "execution_count": 60,
     "metadata": {},
     "output_type": "execute_result"
    }
   ],
   "source": [
    "#ГЕНЕРАЦИЯ ВЫБОРОК\n",
    "\n",
    "# Случайные числа можно использовать и для работы\n",
    "# с уже существующими данными.\n",
    "# Иногда для проверки гипотез о данных бывает\n",
    "# удобно перемешать значения, чтобы проверить,\n",
    "# является ли наблюдаемая закономерность случайной.\n",
    "\n",
    "# Просто перемешать все числа в массиве позволяет функция random.shuffle.\n",
    "\n",
    "# Возьмём массив из целых чисел от 0 до 5 и перемешаем его:\n",
    "\n",
    "arr = np.arange(6)\n",
    "print(arr)\n",
    "# [0 1 2 3 4 5]\n",
    "print(np.random.shuffle(arr))\n",
    "# None\n",
    "arr\n",
    "\n",
    "# Функция random.shuffle перемешивает тот массив,\n",
    "# к которому применяется, и возвращает None."
   ]
  },
  {
   "cell_type": "code",
   "execution_count": 70,
   "metadata": {},
   "outputs": [
    {
     "name": "stdout",
     "output_type": "stream",
     "text": [
      "['Deep Purple' 'ACDC' 'The Beatles' 'Pink Floyd']\n",
      "['The Beatles', 'Pink Floyd', 'ACDC', 'Deep Purple']\n"
     ]
    }
   ],
   "source": [
    "#Чтобы получить новый перемешанный массив,\n",
    "# а исходный оставить без изменений,\n",
    "# можно использовать функцию random.permutation.\n",
    "# Она принимает на вход один аргумент —\n",
    "# или массив целиком,\n",
    "# или одно число:\n",
    "\n",
    "playlist = [\"The Beatles\", \"Pink Floyd\", \"ACDC\", \"Deep Purple\"]\n",
    "shuffled = np.random.permutation(playlist)\n",
    "print(shuffled)\n",
    "# ['The Beatles' 'Pink Floyd' 'Deep Purple' 'ACDC']\n",
    "print(playlist)\n",
    "\n",
    "# Обратите внимание, что необязательно передавать\n",
    "# в функцию сразу массив: в этот раз мы передали\n",
    "# в качестве аргумента список и ошибки не возникло.\n",
    "# При этом на выходе получился уже NumPy-массив\n",
    "# (это заметно по отсутствию запятых при печати массива).\n",
    "# Сам список playlist при этом остался без изменений."
   ]
  },
  {
   "cell_type": "code",
   "execution_count": 75,
   "metadata": {},
   "outputs": [
    {
     "data": {
      "text/plain": [
       "array([8, 3, 5, 6, 1, 0, 7, 4, 9, 2])"
      ]
     },
     "execution_count": 75,
     "metadata": {},
     "output_type": "execute_result"
    }
   ],
   "source": [
    "#Перемешать набор чисел от 0 до n-1 можно с помощью записи\n",
    "# np.random.permutation(n)\n",
    "# где n — верхняя граница, которая бы использовалась\n",
    "# для генерации набора чисел функцией arange.\n",
    "\n",
    "np.random.permutation(10)\n",
    "\n",
    "# По сути, вначале создаётся массив из чисел с помощью arange,\n",
    "# а затем он перемешивается. С помощью permutation\n",
    "# можно избежать совершения этого дополнительного действия."
   ]
  },
  {
   "cell_type": "code",
   "execution_count": 84,
   "metadata": {},
   "outputs": [
    {
     "name": "stdout",
     "output_type": "stream",
     "text": [
      "['John' 'Ivan']\n"
     ]
    }
   ],
   "source": [
    "# Чтобы получить случайный набор объектов из массива,\n",
    "# используется функция random.choice:\n",
    "\n",
    "# choice(a, size=None, replace=True)\n",
    "\n",
    "# a — одномерный массив или число для генерации arange(a);\n",
    "\n",
    "# size — желаемая форма массива (число для получения одномерного массива,\n",
    "# кортеж — для многомерного; \n",
    "# если параметр не задан, возвращается один объект);\n",
    "\n",
    "# replace — параметр, задающий, могут ли элементы повторяться \n",
    "# (по умолчанию могут).\n",
    "\n",
    "# Выберем случайным образом из списка двоих человек,\n",
    "# которые должны будут выступить с отчётом на этой неделе.\n",
    "# Для этого из списка имён\n",
    "# (опять же, можно передавать в функцию choice не NumPy-массив, а список)\n",
    "# получим два случайных объекта без повторений\n",
    "# (логично, что нужно выбрать двух разных людей).\n",
    "# Сделать это можно вот так:\n",
    "\n",
    "workers = ['Ivan', 'Nikita', 'Maria', 'John', 'Kate']\n",
    " \n",
    "choice = np.random.choice(workers, size=2, replace=False)\n",
    "print(choice)"
   ]
  },
  {
   "cell_type": "code",
   "execution_count": 80,
   "metadata": {},
   "outputs": [
    {
     "ename": "ValueError",
     "evalue": "Cannot take a larger sample than population when 'replace=False'",
     "output_type": "error",
     "traceback": [
      "\u001b[1;31m---------------------------------------------------------------------------\u001b[0m",
      "\u001b[1;31mValueError\u001b[0m                                Traceback (most recent call last)",
      "Cell \u001b[1;32mIn [80], line 7\u001b[0m\n\u001b[0;32m      1\u001b[0m \u001b[39m# На выходе получили массив из двух имён без повторений. \u001b[39;00m\n\u001b[0;32m      2\u001b[0m \n\u001b[0;32m      3\u001b[0m \u001b[39m# Если попытаться получить без повторений массив большего размера,\u001b[39;00m\n\u001b[0;32m      4\u001b[0m \u001b[39m# чем имеется объектов в исходном, возникнет ошибка:\u001b[39;00m\n\u001b[0;32m      6\u001b[0m workers \u001b[39m=\u001b[39m [\u001b[39m'\u001b[39m\u001b[39mIvan\u001b[39m\u001b[39m'\u001b[39m, \u001b[39m'\u001b[39m\u001b[39mNikita\u001b[39m\u001b[39m'\u001b[39m, \u001b[39m'\u001b[39m\u001b[39mMaria\u001b[39m\u001b[39m'\u001b[39m, \u001b[39m'\u001b[39m\u001b[39mJohn\u001b[39m\u001b[39m'\u001b[39m, \u001b[39m'\u001b[39m\u001b[39mKate\u001b[39m\u001b[39m'\u001b[39m]\n\u001b[1;32m----> 7\u001b[0m choice \u001b[39m=\u001b[39m np\u001b[39m.\u001b[39mrandom\u001b[39m.\u001b[39mchoice(workers, size\u001b[39m=\u001b[39m\u001b[39m10\u001b[39m, replace\u001b[39m=\u001b[39m\u001b[39mFalse\u001b[39;00m)\n\u001b[0;32m      8\u001b[0m \u001b[39mprint\u001b[39m(choice)\n",
      "File \u001b[1;32mmtrand.pyx:965\u001b[0m, in \u001b[0;36mnumpy.random.mtrand.RandomState.choice\u001b[1;34m()\u001b[0m\n",
      "\u001b[1;31mValueError\u001b[0m: Cannot take a larger sample than population when 'replace=False'"
     ]
    }
   ],
   "source": [
    "# На выходе получили массив из двух имён без повторений. \n",
    "\n",
    "# Если попытаться получить без повторений массив большего размера,\n",
    "# чем имеется объектов в исходном, возникнет ошибка:\n",
    "\n",
    "workers = ['Ivan', 'Nikita', 'Maria', 'John', 'Kate']\n",
    "choice = np.random.choice(workers, size=10, replace=False)\n",
    "print(choice)"
   ]
  },
  {
   "cell_type": "code",
   "execution_count": 83,
   "metadata": {},
   "outputs": [
    {
     "name": "stdout",
     "output_type": "stream",
     "text": [
      "[1 5 4 6 5 6 3 3 3 4]\n"
     ]
    }
   ],
   "source": [
    "# Выборка с повторениями используется по умолчанию.\n",
    "# Она применяется в том случае, когда мы допускаем,\n",
    "# что объекты могут повторяться.\n",
    "\n",
    "# Например, получим случайную последовательность,\n",
    "# которая образуется в результате десяти подбрасываний игральной кости:\n",
    "\n",
    "choice = np.random.choice([1,2,3,4,5,6], size=10)\n",
    "print(choice)"
   ]
  },
  {
   "cell_type": "code",
   "execution_count": 87,
   "metadata": {},
   "outputs": [
    {
     "data": {
      "text/plain": [
       "array([[3, 6, 8, 9],\n",
       "       [6, 8, 7, 9],\n",
       "       [3, 6, 1, 2]])"
      ]
     },
     "execution_count": 87,
     "metadata": {},
     "output_type": "execute_result"
    }
   ],
   "source": [
    "# SEED ГЕНЕРАТОРА ПСЕВДОСЛУЧАЙНЫХ ЧИСЕЛ\n",
    "\n",
    "# NumPy генерирует не истинные случайные числа\n",
    "# (такие числа получаются в результате случайных процессов),\n",
    "# а псевдослучайные, которые получаются с помощью особых\n",
    "# преобразований какого-либо исходного числа.\n",
    "# Обычно компьютер берёт это число автоматически,\n",
    "# например, из текущего времени в микросекундах\n",
    "# (на самом деле используются другие ещё менее предсказуемые числа).\n",
    "# Такое число называют seed (от англ. — «зерно»).\n",
    "\n",
    "#Самостоятельно задать seed в NumPy можно с помощью функции\n",
    "# np.random.seed(<np.uint32>).\n",
    "# Число в скобках должно быть в пределах от 0 до 2**32 - 1 (=4294967295).\n",
    "\n",
    "# Зададим seed и посмотрим, что получится:\n",
    "\n",
    "np.random.seed(23)\n",
    "np.random.randint(10, size=(3,4))"
   ]
  },
  {
   "cell_type": "code",
   "execution_count": 92,
   "metadata": {},
   "outputs": [
    {
     "name": "stdout",
     "output_type": "stream",
     "text": [
      "[8 8 3]\n",
      "[7 7 0]\n",
      "[4 2 5]\n"
     ]
    }
   ],
   "source": [
    "np.random.seed(100)\n",
    "print(np.random.randint(10, size=3))\n",
    "# [8 8 3]\n",
    "print(np.random.randint(10, size=3))\n",
    "# [7 7 0]\n",
    "print(np.random.randint(10, size=3))\n",
    "\n",
    "# При этом запуск одной и той же функции генерации случайных чисел\n",
    "# несколько  раз после задания seed не приводит к генерации\n",
    "# одних и тех же чисел. Однако итоговый результат работы\n",
    "# всегда будет одинаковый в совокупности."
   ]
  },
  {
   "cell_type": "code",
   "execution_count": null,
   "metadata": {},
   "outputs": [],
   "source": [
    "# ЗАДАНИЕ 9.6\n",
    "\n",
    "# Не забудьте импортировать numpy и сразу задать seed 2021\n",
    "import numpy as np\n",
    "np.random.seed(2021)\n",
    "# В simple сохранте случайное число в диапазоне от 0 до 1\n",
    "simple = None\n",
    "simple = np.random.rand()\n",
    "# Сгенерируйте 120 чисел в диапазоне от -150 до 2021, сохраните их\n",
    "# в переменную randoms\n",
    "randoms = None\n",
    "randoms = np.random.uniform(-150, 2021, size=120)\n",
    "# Получите массив из случайных целых чисел от 1 до 100 (включительно)\n",
    "# из 3 строк и 2 столбцов. Сохраните результат в table\n",
    "table = None\n",
    "table = np.random.randint(1, high=101, size=(3,2))\n",
    "# В переменную even сохраните четные числа от 2 до 16 (включительно)\n",
    "even = None\n",
    "even = np.arange(2,17,2)\n",
    "# Перемешайте числа в even так, чтобы массив even изменился\n",
    "np.random.shuffle(even)\n",
    "\n",
    "# Получите из even 3 числа без повторений. Сохраните их в переменную select\n",
    "select = None\n",
    "select = np.random.choice(even, size=3, replace=False)\n",
    "# Получите переменную triplet, которая должна содержать перемешанные\n",
    "# значения из массива select (сам select измениться не должен)\n",
    "triplet = None\n",
    "triplet = np.random.permutation(select)"
   ]
  }
 ],
 "metadata": {
  "kernelspec": {
   "display_name": "Python 3.9.10 64-bit",
   "language": "python",
   "name": "python3"
  },
  "language_info": {
   "codemirror_mode": {
    "name": "ipython",
    "version": 3
   },
   "file_extension": ".py",
   "mimetype": "text/x-python",
   "name": "python",
   "nbconvert_exporter": "python",
   "pygments_lexer": "ipython3",
   "version": "3.9.10"
  },
  "orig_nbformat": 4,
  "vscode": {
   "interpreter": {
    "hash": "cf92aa13fedf815d5c8dd192b8d835913fde3e8bc926b2a0ad6cc74ef2ba3ca2"
   }
  }
 },
 "nbformat": 4,
 "nbformat_minor": 2
}
