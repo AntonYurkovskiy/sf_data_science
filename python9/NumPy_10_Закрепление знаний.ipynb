{
 "cells": [
  {
   "cell_type": "code",
   "execution_count": 8,
   "metadata": {},
   "outputs": [
    {
     "ename": "ModuleNotFoundError",
     "evalue": "No module named 'hidden'",
     "output_type": "error",
     "traceback": [
      "\u001b[1;31m---------------------------------------------------------------------------\u001b[0m",
      "\u001b[1;31mModuleNotFoundError\u001b[0m                       Traceback (most recent call last)",
      "Cell \u001b[1;32mIn [8], line 3\u001b[0m\n\u001b[0;32m      1\u001b[0m \u001b[39m# Задание 10.5\u001b[39;00m\n\u001b[1;32m----> 3\u001b[0m \u001b[39mfrom\u001b[39;00m \u001b[39mhidden\u001b[39;00m \u001b[39mimport\u001b[39;00m a, b\n\u001b[0;32m      4\u001b[0m \u001b[39m# Пишите здесь команды, который помогут\u001b[39;00m\n\u001b[0;32m      5\u001b[0m \u001b[39m# найти ответы на вопросы\u001b[39;00m\n\u001b[0;32m      6\u001b[0m \u001b[39mimport\u001b[39;00m \u001b[39mnumpy\u001b[39;00m \u001b[39mas\u001b[39;00m \u001b[39mnp\u001b[39;00m\n",
      "\u001b[1;31mModuleNotFoundError\u001b[0m: No module named 'hidden'"
     ]
    }
   ],
   "source": [
    "# Задание 10.5\n",
    "\n",
    "from hidden import a, b\n",
    "# Пишите здесь команды, который помогут\n",
    "# найти ответы на вопросы\n",
    "import numpy as np\n",
    "a = np.int64(a)\n",
    "b = np.int64(b)\n",
    "c = a + b\n",
    "\n",
    "print (c)"
   ]
  },
  {
   "cell_type": "code",
   "execution_count": 9,
   "metadata": {},
   "outputs": [
    {
     "name": "stdout",
     "output_type": "stream",
     "text": [
      "[[0. 1. 0. 1. 0. 1.]\n",
      " [1. 0. 1. 0. 1. 0.]\n",
      " [0. 1. 0. 1. 0. 1.]\n",
      " [1. 0. 1. 0. 1. 0.]\n",
      " [0. 1. 0. 1. 0. 1.]\n",
      " [1. 0. 1. 0. 1. 0.]]\n"
     ]
    }
   ],
   "source": [
    "# ЗАДАНИЕ 10.6 \n",
    "# Напишите функцию get_chess, которая\n",
    "# принимает на вход длину стороны квадрата a\n",
    "# и возвращает двумерный массив формы (a, a),\n",
    "# заполненный 0 и 1 в шахматном порядке.\n",
    "# В левом верхнем углу всегда должен быть ноль.\n",
    "\n",
    "# Примечание: воспользуйтесь функцией zeros из библиотеки numpy,\n",
    "# а затем с помощью срезов без циклов\n",
    "# задайте необходимым элементам значение 1.\n",
    "\n",
    "# Напоминание: в Python для получения каждого второго элемента\n",
    "# используется срез [::2]. Подумайте,\n",
    "# как грамотно применить этот принцип к двумерному массиву.\n",
    "\n",
    "# Пример:\n",
    "\n",
    "#get_chess(1)\n",
    "# array([[0.]])\n",
    "#get_chess(4)\n",
    "# array([[0., 1., 0., 1.],\n",
    "#        [1., 0., 1., 0.],\n",
    "#        [0., 1., 0., 1.],\n",
    "#        [1., 0., 1., 0.]])\n",
    "def get_chess(a):\n",
    "    import numpy as np\n",
    "    zeros_arr = np.zeros((a,a), dtype=np.float32)\n",
    "    zeros_arr[::2,1::2]=1\n",
    "    zeros_arr[1::2,::2]=1\n",
    "    return zeros_arr\n",
    "print(get_chess(6))"
   ]
  },
  {
   "cell_type": "code",
   "execution_count": 13,
   "metadata": {},
   "outputs": [
    {
     "name": "stdout",
     "output_type": "stream",
     "text": [
      "(array([1, 4, 2, 3, 5]), 1933996845)\n"
     ]
    }
   ],
   "source": [
    "# ЗАДАНИЕ 10.7\n",
    "#Вы разрабатываете приложение для прослушивания музыки. \n",
    "# Конечно же, там будет доступна функция перемешивания плейлиста.\n",
    "# Пользователю может настолько понравиться перемешанная версия плейлиста,\n",
    "# что он захочет сохранить его копию. Однако вы не хотите хранить в памяти\n",
    "# новую версию плейлиста, а просто хотите сохранять тот seed,\n",
    "# с которым он был сгенерирован.\n",
    "\n",
    "# Для этого напишите функцию shuffle_seed(<array>),\n",
    "# которая принимает на вход массив из чисел,\n",
    "# генерирует случайное число для seed в диапазоне от 0 до 2**32 - 1\n",
    "# (включительно) и возвращает кортеж:\n",
    "# перемешанный с данным seed массив\n",
    "# (исходный массив должен оставаться без изменений),\n",
    "# а также seed, с которым этот массив был получен.\n",
    "\n",
    "# Пример:\n",
    "\n",
    "arr = [1, 2, 3, 4, 5]\n",
    "# shuffle_seed(array)\n",
    "# (array([1, 3, 2, 4, 5]), 2332342819)\n",
    "# shuffle_seed(array)\n",
    "# (array([4, 5, 2, 3, 1]), 4155165971)\n",
    "import numpy as np\n",
    "def shuffle_seed(array):\n",
    "    seed_int = np.random.randint(2**32-1,dtype='int64') \n",
    "    np.random.seed(seed_int)\n",
    "    shuffled_arr = np.random.permutation(array)\n",
    "    return  shuffled_arr, seed_int\n",
    "\n",
    "print(shuffle_seed(arr))"
   ]
  },
  {
   "cell_type": "code",
   "execution_count": null,
   "metadata": {},
   "outputs": [],
   "source": [
    "# Напишите функцию min_max_dist,\n",
    "# которая принимает на вход неограниченное число векторов через запятую.\n",
    "# Гарантируется, что все векторы, которые передаются, одинаковой длины.\n",
    "\n",
    "# Функция возвращает минимальное и максимальное расстояние между векторами в виде кортежа.\n",
    "\n",
    "# Пример:\n",
    "import numpy as np\n",
    "from itertools import product\n",
    "from collections import Counter\n",
    "\n",
    "vec1 = np.array([1,2,3])\n",
    "vec2 = np.array([4,5,6])\n",
    "vec3 = np.array([7, 8, 9])\n",
    "\n",
    "def min_max_dist(*vecs):\n",
    "    vars = np.array(list(product(vecs, repeat=2)))      # генерируем массив с парами векторов,  (есть одинаковые пары) \n",
    "    diff_arr = vars[:,0]-vars[:,1]                      # вычисляем массив с разницей векторов,  (есть нулевые вектора)\n",
    "    dists = list(map(np.linalg.norm, diff_arr))         # вычисляем массив с длин векторов, (есть длины равные нулю)\n",
    "    dists_c = list(Counter(dists).keys())               # создаем список из значений длин, включая один 0\n",
    "    dists_c.remove(0)                                   # удаляем 0\n",
    "    return   min(dists_c), max(dists_c), diff_arr\n",
    " \n",
    "print (min_max_dist(vec1, vec2, vec3))"
   ]
  },
  {
   "cell_type": "code",
   "execution_count": 14,
   "metadata": {},
   "outputs": [
    {
     "name": "stdout",
     "output_type": "stream",
     "text": [
      "(5.196152422706632, 10.392304845413264)\n"
     ]
    }
   ],
   "source": [
    "import numpy as np\n",
    "from itertools import combinations\n",
    "\n",
    "vec1 = np.array([1,2,3])\n",
    "vec2 = np.array([4,5,6])\n",
    "vec3 = np.array([7, 8, 9])\n",
    "\n",
    "def min_max_dist(*vecs):\n",
    "    vars = np.array(list(combinations(vecs, 2)))      # генерируем массив с парами векторов, \n",
    "    diff_arr = vars[:,0]-vars[:,1]                      # вычисляем массив с разницей векторов, \n",
    "    dists = list(map(np.linalg.norm, diff_arr))         # вычисляем массив с длинами векторов, \n",
    "    return   min(dists), max(dists)\n",
    " \n",
    "print (min_max_dist(vec1, vec2, vec3))"
   ]
  },
  {
   "cell_type": "code",
   "execution_count": null,
   "metadata": {},
   "outputs": [],
   "source": [
    "def min_max_dist(*vecs):\n",
    "    vars = np.array(list(product(vecs, repeat=2)))      # генерируем массив с парами векторов,  (есть одинаковые пары) \n",
    "    diff_arr = vars[:,0]-vars[:,1]                      # вычисляем массив с разницей векторов,  (есть нулевые вектора)\n",
    "    I = diff_arr != 0                                   # создаем индекс булевый массив, True для значений не равных нулю, False для 0\n",
    "    vec_len = len(vars[0,0])                            # на данном этапе не смог решить проблему несовместимости форм массивов\n",
    "    ind_arr_len = diff_arr[I].shape\n",
    "    a = diff_arr[I].reshape(ind_arr_len/vec_len,vec_len)\n",
    "    dists = list(map(np.linalg.norm, diff_arr))         \n",
    "    dists_c = list(Counter(dists).keys())               \n",
    "    dists_c.remove(0)                                   \n",
    "    return min(dists_c), max(dists_c)vars[I]\n",
    " \n",
    "print (min_max_dist(vec1, vec2, vec3))"
   ]
  },
  {
   "cell_type": "code",
   "execution_count": 2,
   "metadata": {},
   "outputs": [
    {
     "name": "stdout",
     "output_type": "stream",
     "text": [
      "True\n"
     ]
    }
   ],
   "source": [
    "# ЗАДАНИЕ 10.9\n",
    "\n",
    "# Напишите функцию any_normal, которая\n",
    "# принимает на вход неограниченное число векторов через запятую.\n",
    "# Гарантируется, что все векторы, которые передаются, одинаковой длины.\n",
    "\n",
    "# Функция возвращает True, если есть хотя бы одна пара\n",
    "# перпендикулярных векторов. Иначе возвращает False.\n",
    "\n",
    "# Пример:\n",
    "from itertools import combinations\n",
    "import numpy as np\n",
    "\n",
    "vec1 = np.array([2, 1])\n",
    "vec2 = np.array([-1, 2])\n",
    "vec3 = np.array([3,4])\n",
    "\n",
    "from itertools import combinations\n",
    "import numpy as np\n",
    "def any_normal(*vecs):\n",
    "    vars = np.array(list(combinations(vecs, 2)))\n",
    "    any_zeros = list(map(np.dot, vars[:,0],vars[:,1])) \n",
    "    if 0 in any_zeros: return True\n",
    "    return False\n",
    "print(any_normal(vec1, vec2, vec3))"
   ]
  },
  {
   "cell_type": "code",
   "execution_count": 42,
   "metadata": {},
   "outputs": [
    {
     "name": "stdout",
     "output_type": "stream",
     "text": [
      "[[[  3  96  62  17  65]\n",
      "  [  5  27  68  83  36]\n",
      "  [ 48  32  85  95  10]\n",
      "  [ 72  41  65  51  97]\n",
      "  [ 66  91  76  83  69]]\n",
      "\n",
      " [[ 51 100  90  50  34]\n",
      "  [  7  92  88  41   7]\n",
      "  [  1  85  67  69  74]\n",
      "  [ 54   6  83  79  16]\n",
      "  [ 16  64  95  54  95]]\n",
      "\n",
      " [[ 89  80  13  90  92]\n",
      "  [ 56  15  96  80  99]\n",
      "  [ 70  49  57  79   3]\n",
      "  [ 12  61   4  37  23]\n",
      "  [  5  33  65  76  76]]]\n"
     ]
    }
   ],
   "source": [
    "#ЗАДАНИЕ 10.10 \n",
    "\n",
    "#Напишите функцию get_loto(num), генерирующую трёхмерный массив\n",
    "# случайных целых чисел от 1 до 100 (включительно).\n",
    "# Это поля для игры в лото.\n",
    "\n",
    "# Трёхмерный массив должен состоять из таблиц чисел формы 5х5,\n",
    "# то есть итоговая форма — (num, 5, 5).\n",
    "\n",
    "# Функция возвращает полученный массив.\n",
    "\n",
    "#№Пример:\n",
    "\n",
    "def get_loto(num):\n",
    "    \n",
    "    return np.random.randint(101, size=(num,5,5))\n",
    "print(get_loto(3))\n",
    "#Результат:\n",
    "\n",
    "#array([[[ 35,  66,  38,  11,  32],\n",
    "#       [ 32,   7,  37,  83,  42],\n",
    " #      [ 89,  37,  19,  51,  89],\n",
    "  #     [ 70, 100,  83,   5,  11],\n",
    "   #    [ 20,  13,  60,  26,  41]],\n",
    " #\n",
    "  #    [[ 23,  49,  76,  44,  43],\n",
    "   #    [ 59,  63,  99,  92,   2],\n",
    "    #   [ 83,   4,  25,  73,  19],\n",
    "     #  [ 10,  18,  40,  11,  21],\n",
    "      # [ 58,  45,  73,  93,  61]],\n",
    " #\n",
    "  #    [[100,  88,  70,  34,  51],\n",
    "   #    [  5,  35,  36,  85,  88],\n",
    "    #   [ 72,  23,  87,  30,  40],\n",
    "     #  [ 29,  21,  51,  73,  81],\n",
    "      # [ 91,  19,  87,  60,  27]]])"
   ]
  },
  {
   "cell_type": "code",
   "execution_count": 49,
   "metadata": {},
   "outputs": [],
   "source": [
    "def get_loto(num):\n",
    "    \n",
    "    return np.random.randint(101, size=(num,5,5))"
   ]
  },
  {
   "cell_type": "code",
   "execution_count": 64,
   "metadata": {},
   "outputs": [
    {
     "name": "stdout",
     "output_type": "stream",
     "text": [
      "[[[  3  77  87  27  57]\n",
      "  [ 66  76  97  74  28]\n",
      "  [ 51  71  26  10  64]\n",
      "  [ 33  94   8  22  15]\n",
      "  [ 19  36  96  75   7]]\n",
      "\n",
      " [[ 68  38  82  72  30]\n",
      "  [ 47  85  59  58  13]\n",
      "  [ 32  50  20 100   2]\n",
      "  [ 24  81  53  80  45]\n",
      "  [ 23  65  56  44  88]]\n",
      "\n",
      " [[ 18  16  84  99  21]\n",
      "  [ 95  31  11  35  62]\n",
      "  [ 42  67  55  93  14]\n",
      "  [ 92  46  60  98  48]\n",
      "  [  9  69  52  40  25]]]\n"
     ]
    }
   ],
   "source": [
    "# ЗАДАНИЕ 10.11 \n",
    "\n",
    "#Напишите функцию get_unique_loto(num).\n",
    "# Она так же, как и функция в задании 10.10,\n",
    "# генерирует num полей для игры в лото,\n",
    "# однако теперь на каждом поле 5х5 числа не могут повторяться.\n",
    "\n",
    "#Функция также должна возвращать массив формы num x 5 x 5.\n",
    "\n",
    "#Пример:\n",
    "\n",
    "def get_unique_loto(num):\n",
    "    unique_loto = np.random.choice(np.arange(1,101), size=(num,5,5), replace=False)\n",
    "    return unique_loto\n",
    "print(get_unique_loto(3))\n",
    "#Результат:\n",
    "\n",
    "#array([[[26, 91, 73,  7, 16],\n",
    " #      [46, 85, 78, 77, 51],\n",
    "  #     [84, 86, 55, 71, 58],\n",
    "   #    [17, 61, 50, 30, 97],\n",
    "    #   [66, 29, 38, 41, 32]],\n",
    " #\n",
    "  #    [[49, 32,  3, 21, 85],\n",
    "   #    [45,  8, 94, 46, 96],\n",
    "    #   [41, 38, 58, 37, 98],\n",
    "     #  [66, 77, 54, 80, 26],\n",
    "      # [62, 63, 72,  5, 43]],\n",
    " #\n",
    "  #    [[55, 60,  6, 80, 97],\n",
    "   #    [23, 69, 94,  9, 24],\n",
    "    #   [17, 98, 27, 63, 79],\n",
    "     #  [84, 74, 51, 39, 54],\n",
    "      # [77, 30, 48, 75, 85]]])"
   ]
  },
  {
   "cell_type": "code",
   "execution_count": 1,
   "metadata": {},
   "outputs": [
    {
     "ename": "NameError",
     "evalue": "name 'np' is not defined",
     "output_type": "error",
     "traceback": [
      "\u001b[1;31m---------------------------------------------------------------------------\u001b[0m",
      "\u001b[1;31mNameError\u001b[0m                                 Traceback (most recent call last)",
      "Cell \u001b[1;32mIn [1], line 2\u001b[0m\n\u001b[0;32m      1\u001b[0m simplelist \u001b[39m=\u001b[39m [\u001b[39m19\u001b[39m, \u001b[39m242\u001b[39m, \u001b[39m14\u001b[39m, \u001b[39m152\u001b[39m, \u001b[39m142\u001b[39m, \u001b[39m1000\u001b[39m]\n\u001b[1;32m----> 2\u001b[0m np\u001b[39m.\u001b[39mmean(simplelist)\n",
      "\u001b[1;31mNameError\u001b[0m: name 'np' is not defined"
     ]
    }
   ],
   "source": [
    "simplelist = [19, 242, 14, 152, 142, 1000]\n",
    "np.mean(simplelist)"
   ]
  }
 ],
 "metadata": {
  "kernelspec": {
   "display_name": "Python 3.9.10 64-bit",
   "language": "python",
   "name": "python3"
  },
  "language_info": {
   "codemirror_mode": {
    "name": "ipython",
    "version": 3
   },
   "file_extension": ".py",
   "mimetype": "text/x-python",
   "name": "python",
   "nbconvert_exporter": "python",
   "pygments_lexer": "ipython3",
   "version": "3.9.10"
  },
  "orig_nbformat": 4,
  "vscode": {
   "interpreter": {
    "hash": "cf92aa13fedf815d5c8dd192b8d835913fde3e8bc926b2a0ad6cc74ef2ba3ca2"
   }
  }
 },
 "nbformat": 4,
 "nbformat_minor": 2
}
