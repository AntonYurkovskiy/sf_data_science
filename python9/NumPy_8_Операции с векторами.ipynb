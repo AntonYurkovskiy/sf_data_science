{
 "cells": [
  {
   "cell_type": "code",
   "execution_count": null,
   "metadata": {},
   "outputs": [],
   "source": [
    "#С векторами в NumPy можно производить арифметические операции: \n",
    "# складывать, \n",
    "# вычитать, \n",
    "# умножать друг на друга, \n",
    "# возводить один вектор в степень другого и т. д.\n",
    "\n",
    "#Операция, применённая к двум векторам, \n",
    "# на самом деле применяется поэлементно. \n",
    "# То есть при сложении двух векторов \n",
    "# первым элементом нового вектора \n",
    "# будет сумма первых элементов исходных векторов, \n",
    "# вторым — сумма вторых элементов и т. д."
   ]
  },
  {
   "cell_type": "code",
   "execution_count": 1,
   "metadata": {},
   "outputs": [
    {
     "data": {
      "text/plain": [
       "array([14. , 10. , 10.6, 15.5])"
      ]
     },
     "execution_count": 1,
     "metadata": {},
     "output_type": "execute_result"
    }
   ],
   "source": [
    "#Произведём сложение двух векторов:\n",
    "\n",
    "import numpy as np\n",
    "vec1 = np.array([2, 4, 7, 2.5])\n",
    "vec2 = np.array([12, 6, 3.6, 13])\n",
    "vec1 + vec2"
   ]
  },
  {
   "cell_type": "code",
   "execution_count": 2,
   "metadata": {},
   "outputs": [
    {
     "data": {
      "text/plain": [
       "[2, 4, 7, 2.5, 12, 6, 3.6, 13]"
      ]
     },
     "execution_count": 2,
     "metadata": {},
     "output_type": "execute_result"
    }
   ],
   "source": [
    "#Что бы произошло при сложении двух списков? \n",
    "# Их элементы просто объединились бы в один список:\n",
    "\n",
    "list1 = [2, 4, 7, 2.5]\n",
    "list2 = [12, 6, 3.6, 13]\n",
    "list1 + list2"
   ]
  },
  {
   "cell_type": "code",
   "execution_count": 3,
   "metadata": {},
   "outputs": [
    {
     "data": {
      "text/plain": [
       "[14, 10, 10.6, 15.5]"
      ]
     },
     "execution_count": 3,
     "metadata": {},
     "output_type": "execute_result"
    }
   ],
   "source": [
    "#Чтобы сложить два этих списка поэлементно, \n",
    "# нам пришлось бы написать списочное сокращение \n",
    "# с применением функции zip():\n",
    "\n",
    "[x + y for x, y in zip(list1, list2)]"
   ]
  },
  {
   "cell_type": "code",
   "execution_count": 4,
   "metadata": {},
   "outputs": [
    {
     "data": {
      "text/plain": [
       "array([24. , 24. , 25.2, 32.5])"
      ]
     },
     "execution_count": 4,
     "metadata": {},
     "output_type": "execute_result"
    }
   ],
   "source": [
    "#Поэлементно умножим два вектора одинаковой длины:\n",
    "\n",
    "vec1 = np.array([2, 4, 7, 2.5])\n",
    "vec2 = np.array([12, 6, 3.6, 13])\n",
    "vec1 * vec2"
   ]
  },
  {
   "cell_type": "code",
   "execution_count": 5,
   "metadata": {},
   "outputs": [
    {
     "ename": "ValueError",
     "evalue": "operands could not be broadcast together with shapes (4,) (3,) ",
     "output_type": "error",
     "traceback": [
      "\u001b[1;31m---------------------------------------------------------------------------\u001b[0m",
      "\u001b[1;31mValueError\u001b[0m                                Traceback (most recent call last)",
      "Cell \u001b[1;32mIn [5], line 6\u001b[0m\n\u001b[0;32m      3\u001b[0m vec1 \u001b[39m=\u001b[39m np\u001b[39m.\u001b[39marray([\u001b[39m2\u001b[39m, \u001b[39m4\u001b[39m, \u001b[39m7\u001b[39m, \u001b[39m2.5\u001b[39m])\n\u001b[0;32m      4\u001b[0m vec2 \u001b[39m=\u001b[39m np\u001b[39m.\u001b[39marray([\u001b[39m12\u001b[39m, \u001b[39m6\u001b[39m, \u001b[39m3.6\u001b[39m])\n\u001b[1;32m----> 6\u001b[0m vec1 \u001b[39m*\u001b[39m vec2\n",
      "\u001b[1;31mValueError\u001b[0m: operands could not be broadcast together with shapes (4,) (3,) "
     ]
    }
   ],
   "source": [
    "#А теперь создадим vec2, который будет на один элемент короче, чем vec1:\n",
    "\n",
    "vec1 = np.array([2, 4, 7, 2.5])\n",
    "vec2 = np.array([12, 6, 3.6])\n",
    " \n",
    "vec1 * vec2"
   ]
  },
  {
   "cell_type": "code",
   "execution_count": 7,
   "metadata": {},
   "outputs": [
    {
     "data": {
      "text/plain": [
       "array([ 0,  1,  4,  9, 16])"
      ]
     },
     "execution_count": 7,
     "metadata": {},
     "output_type": "execute_result"
    }
   ],
   "source": [
    "#Исключением является случай, когда операция происходит \n",
    "# с вектором и одним числом. Например, вектор целиком \n",
    "# можно умножить на число или возвести в степень этого числа:\n",
    "\n",
    "vec = np.arange(5)\n",
    "vec * 10\n",
    "# array([ 0, 10, 20, 30, 40])\n",
    "vec ** 2"
   ]
  },
  {
   "cell_type": "code",
   "execution_count": 8,
   "metadata": {},
   "outputs": [
    {
     "data": {
      "text/plain": [
       "array([False, False,  True, False])"
      ]
     },
     "execution_count": 8,
     "metadata": {},
     "output_type": "execute_result"
    }
   ],
   "source": [
    "#Также векторы можно сравнивать друг с другом поэлементно:\n",
    "vec1 = np.array([2, 4, 7, 2.5])\n",
    "vec2 = np.array([12, 6, 3.6, 13])\n",
    " \n",
    "vec1 > vec2\n",
    "#В результате получаем вектор исходной длины из булевых переменных,\n",
    "# которые соответствуют результату поэлементного сравнения чисел\n",
    "# из двух векторов."
   ]
  },
  {
   "cell_type": "code",
   "execution_count": 10,
   "metadata": {},
   "outputs": [
    {
     "data": {
      "text/plain": [
       "array([ True,  True,  True,  True, False,  True, False])"
      ]
     },
     "execution_count": 10,
     "metadata": {},
     "output_type": "execute_result"
    }
   ],
   "source": [
    "#Аналогично можно сравнивать вектор с числом:\n",
    "\n",
    "vec = np.array([14,15,9,26,53,5,89])\n",
    "vec <= 26"
   ]
  },
  {
   "cell_type": "code",
   "execution_count": 11,
   "metadata": {},
   "outputs": [
    {
     "name": "stdout",
     "output_type": "stream",
     "text": [
      "5.0\n"
     ]
    }
   ],
   "source": [
    "#ПРОДВИНУТЫЕ ОПЕРАЦИИ С ВЕКТОРАМИ\n",
    "\n",
    "#Длина вектора, то есть расстояние между его началом и концом,\n",
    "# [в евклидовом пространстве]\n",
    "# вычисляется как квадратный корень из суммы квадратов всех его координат. \n",
    "vec = np.array([3, 4])\n",
    "\n",
    "#Для начала воспользуемся формулой: \n",
    "# возведём все элементы в квадрат,\n",
    "# посчитаем их сумму,\n",
    "# а затем найдём квадратный корень. \n",
    "\n",
    "length = np.sqrt(np.sum(vec ** 2))\n",
    "print(length)"
   ]
  },
  {
   "cell_type": "code",
   "execution_count": 12,
   "metadata": {},
   "outputs": [
    {
     "name": "stdout",
     "output_type": "stream",
     "text": [
      "5.0\n"
     ]
    }
   ],
   "source": [
    "# Но можно было поступить проще.\n",
    "# В NumPy есть специальный подмодуль linalg,\n",
    "# который позволяет производить операции из линейной алгебры.\n",
    "\n",
    "# Для вычисления длины вектора нам потребуется функция norm:\n",
    "\n",
    "length = np.linalg.norm(vec)\n",
    "print(length)"
   ]
  },
  {
   "cell_type": "code",
   "execution_count": null,
   "metadata": {},
   "outputs": [],
   "source": [
    "# Расстояние между двумя векторами, \n",
    "# то есть расстояние между их концами, [в евклидовом пространстве]\n",
    "# вычисляется как квадратный корень\n",
    "# из суммы квадратов разностей соответствующих координат.\n",
    "\n",
    "#→ По сути, расстояние между векторами\n",
    "# — это длина такого вектора,\n",
    "# который является разностью этих векторов. "
   ]
  },
  {
   "cell_type": "code",
   "execution_count": 13,
   "metadata": {},
   "outputs": [
    {
     "data": {
      "text/plain": [
       "12.206555615733702"
      ]
     },
     "execution_count": 13,
     "metadata": {},
     "output_type": "execute_result"
    }
   ],
   "source": [
    "# Реализуем вычисление расстояния в коде.\n",
    "# Сначала — «сложным» способом напрямую из формулы:\n",
    "\n",
    "vec1 = np.array([0, 3, 5])\n",
    "vec2 = np.array([12, 4, 7])\n",
    "distance = np.sqrt(np.sum((vec1 - vec2) ** 2))\n",
    "distance"
   ]
  },
  {
   "cell_type": "code",
   "execution_count": 14,
   "metadata": {},
   "outputs": [
    {
     "data": {
      "text/plain": [
       "12.206555615733702"
      ]
     },
     "execution_count": 14,
     "metadata": {},
     "output_type": "execute_result"
    }
   ],
   "source": [
    "#А теперь применим более простой способ\n",
    "# — используем уже известную нам функцию np.linalg.norm:\n",
    "\n",
    "vec1 = np.array([0, 3, 5])\n",
    "vec2 = np.array([12, 4, 7])\n",
    "distance = np.linalg.norm(vec1 - vec2)\n",
    "distance"
   ]
  },
  {
   "cell_type": "code",
   "execution_count": 15,
   "metadata": {},
   "outputs": [
    {
     "data": {
      "text/plain": [
       "250.0"
      ]
     },
     "execution_count": 15,
     "metadata": {},
     "output_type": "execute_result"
    }
   ],
   "source": [
    "#Наконец, скалярным произведением двух векторов\n",
    "# называют сумму произведений их соответствующих координат.\n",
    "\n",
    "# Реализуем это в коде\n",
    "# (по-английски скалярное произведение\n",
    "# называют dot — точечный — или scalar product,\n",
    "# отсюда и такое название переменной):\n",
    "\n",
    "vec1 = np.arange(1, 6)\n",
    "vec2 = np.linspace(10, 20, 5)\n",
    "scalar_product = np.sum(vec1 * vec2)\n",
    "scalar_product"
   ]
  },
  {
   "cell_type": "code",
   "execution_count": 16,
   "metadata": {},
   "outputs": [
    {
     "data": {
      "text/plain": [
       "250.0"
      ]
     },
     "execution_count": 16,
     "metadata": {},
     "output_type": "execute_result"
    }
   ],
   "source": [
    "# в NumPy есть множество встроенных функций,\n",
    "# поэтому возник резонный вопрос:\n",
    "# можно ли проще и вообще без формул?\n",
    "\n",
    "# Да! Для этого используют функцию np.dot(x, y):\n",
    "\n",
    "scalar_product = np.dot(vec1, vec2)\n",
    "scalar_product"
   ]
  },
  {
   "cell_type": "code",
   "execution_count": 17,
   "metadata": {},
   "outputs": [
    {
     "data": {
      "text/plain": [
       "0"
      ]
     },
     "execution_count": 17,
     "metadata": {},
     "output_type": "execute_result"
    }
   ],
   "source": [
    "# В частности, равенство скалярного произведения нулю\n",
    "# означает перпендикулярность рассматриваемых векторов:\n",
    "x = np.array([25, 0])\n",
    "y = np.array([0, 10])\n",
    "np.dot(x, y)\n",
    "# В целом, скалярное произведение\n",
    "# часто используется для определения угла между векторами."
   ]
  },
  {
   "cell_type": "code",
   "execution_count": 4,
   "metadata": {},
   "outputs": [
    {
     "name": "stdout",
     "output_type": "stream",
     "text": [
      "False\n",
      "False\n",
      "True\n"
     ]
    }
   ],
   "source": [
    "#Задание 8.4\n",
    "# Один из них: сумма длин сонаправленных векторов должна быть\n",
    "# равной длине суммы двух векторов.\n",
    "\n",
    "# С помощью этого критерия найдите пару сонаправленных векторов.\n",
    "import numpy as np\n",
    "a = np.array([23, 34, 27])\n",
    "b = np.array([-54, 1,  46])\n",
    "c = np.array([46, 68, 54])\n",
    "\n",
    "print ((np.linalg.norm(b) +np.linalg.norm(c) ) == np.linalg.norm(b+c))\n",
    "print ((np.linalg.norm(b) +np.linalg.norm(a) ) == np.linalg.norm(b+a))\n",
    "print ((np.linalg.norm(a) +np.linalg.norm(c) ) == np.linalg.norm(a+c))\n",
    "\n"
   ]
  },
  {
   "cell_type": "code",
   "execution_count": 5,
   "metadata": {},
   "outputs": [
    {
     "name": "stdout",
     "output_type": "stream",
     "text": [
      "True\n",
      "False\n",
      "False\n"
     ]
    }
   ],
   "source": [
    "#Задание 8.5\n",
    "# Найдите пару векторов, расстояние между которыми больше 100.\n",
    "\n",
    "print (np.linalg.norm(b-c)> 100)\n",
    "print (np.linalg.norm(a-c)> 100)\n",
    "print (np.linalg.norm(b-a)> 100)"
   ]
  },
  {
   "cell_type": "code",
   "execution_count": 22,
   "metadata": {},
   "outputs": [
    {
     "name": "stdout",
     "output_type": "stream",
     "text": [
      "False\n",
      "False\n",
      "False\n"
     ]
    }
   ],
   "source": [
    "# Задание 8.6\n",
    "# Найдите пару перпендикулярных векторов с помощью скалярного произведения \n",
    "# (оно должно быть равно нулю).\n",
    "\n",
    "print (np.dot(b,c) == 0)\n",
    "print (np.dot(a,c) == 0)\n",
    "print (np.dot(b,a) == 0)"
   ]
  },
  {
   "cell_type": "code",
   "execution_count": 27,
   "metadata": {},
   "outputs": [
    {
     "name": "stdout",
     "output_type": "stream",
     "text": [
      "1\n",
      "28\n"
     ]
    }
   ],
   "source": [
    "#БАЗОВЫЕ СТАТИСТИЧЕСКИЕ ФУНКЦИИ ДЛЯ ВЕКТОРОВ \n",
    "\n",
    "# Функции np.min и np.max позволяют находить \n",
    "# максимальное и минимальное значение в векторе. \n",
    "# Их можно записывать как в виде np.min(<vector>),\n",
    "# так и в виде <vector>.min():\n",
    "\n",
    "vec = np.array([2,7,18,28,18,1,8,4])\n",
    "print (vec.min())\n",
    "print(np.max(vec))"
   ]
  },
  {
   "cell_type": "code",
   "execution_count": 29,
   "metadata": {},
   "outputs": [
    {
     "name": "stdout",
     "output_type": "stream",
     "text": [
      "10.75\n",
      "10.75\n"
     ]
    }
   ],
   "source": [
    "# Функция mean позволяет посчитать среднее значение.\n",
    "# Больше не требуется реализовывать её «руками»!\n",
    "\n",
    "print(vec.mean())\n",
    "print(np.mean(vec))"
   ]
  }
 ],
 "metadata": {
  "kernelspec": {
   "display_name": "Python 3.9.10 64-bit",
   "language": "python",
   "name": "python3"
  },
  "language_info": {
   "codemirror_mode": {
    "name": "ipython",
    "version": 3
   },
   "file_extension": ".py",
   "mimetype": "text/x-python",
   "name": "python",
   "nbconvert_exporter": "python",
   "pygments_lexer": "ipython3",
   "version": "3.9.10"
  },
  "orig_nbformat": 4,
  "vscode": {
   "interpreter": {
    "hash": "cf92aa13fedf815d5c8dd192b8d835913fde3e8bc926b2a0ad6cc74ef2ba3ca2"
   }
  }
 },
 "nbformat": 4,
 "nbformat_minor": 2
}
