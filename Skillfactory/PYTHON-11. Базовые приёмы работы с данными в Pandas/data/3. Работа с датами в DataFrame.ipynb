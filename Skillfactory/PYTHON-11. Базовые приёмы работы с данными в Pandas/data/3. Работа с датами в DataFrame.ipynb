{
 "cells": [
  {
   "cell_type": "code",
   "execution_count": 6,
   "metadata": {},
   "outputs": [],
   "source": [
    "import pandas as pd\n",
    "\n",
    "melb_data = pd.read_csv('data/melb_data_ps.csv', sep=',')\n",
    "melb_df = melb_data.copy()"
   ]
  },
  {
   "cell_type": "code",
   "execution_count": 7,
   "metadata": {},
   "outputs": [
    {
     "data": {
      "text/plain": [
       "0         3/12/2016\n",
       "1         4/02/2016\n",
       "2         4/03/2017\n",
       "3         4/03/2017\n",
       "4         4/06/2016\n",
       "            ...    \n",
       "13575    26/08/2017\n",
       "13576    26/08/2017\n",
       "13577    26/08/2017\n",
       "13578    26/08/2017\n",
       "13579    26/08/2017\n",
       "Name: Date, Length: 13580, dtype: object"
      ]
     },
     "metadata": {},
     "output_type": "display_data"
    }
   ],
   "source": [
    "# ФОРМАТ DATETIME\n",
    "\n",
    "# Таким форматом в Pandas является формат datetime,\n",
    "# который записывается как YYYY-MM-DD HH: MM: SS,\n",
    "# то есть составляющие времени указываются\n",
    "# в следующем порядке: год, месяц, день, час, минута, секунда.\n",
    "\n",
    "# В наших данных дата записана в виде DD/MM/YYYY,\n",
    "# например 3/12/2017. Посмотрим на это:\n",
    "\n",
    "display(melb_df['Date'])"
   ]
  },
  {
   "cell_type": "code",
   "execution_count": 8,
   "metadata": {},
   "outputs": [
    {
     "data": {
      "text/plain": [
       "0       2016-12-03\n",
       "1       2016-02-04\n",
       "2       2017-03-04\n",
       "3       2017-03-04\n",
       "4       2016-06-04\n",
       "           ...    \n",
       "13575   2017-08-26\n",
       "13576   2017-08-26\n",
       "13577   2017-08-26\n",
       "13578   2017-08-26\n",
       "13579   2017-08-26\n",
       "Name: Date, Length: 13580, dtype: datetime64[ns]"
      ]
     },
     "metadata": {},
     "output_type": "display_data"
    }
   ],
   "source": [
    "# Для того чтобы преобразовывать столбцы с датами,\n",
    "# записанными в распространённых форматах, в формат datetime,\n",
    "# можно воспользоваться\n",
    "# функцией pandas.to_datetime().\n",
    "# В нашем случае в функции нужно указать\n",
    "# параметр dayfirst=True, который будет обозначать,\n",
    "# что в первоначальном признаке первым идет день.\n",
    "# Преобразуем столбец Date в формат datetime, передав его в эту функцию:\n",
    "\n",
    "melb_df['Date'] = pd.to_datetime(melb_df['Date'], dayfirst=True)\n",
    "display(melb_df['Date'])"
   ]
  },
  {
   "cell_type": "code",
   "execution_count": 10,
   "metadata": {},
   "outputs": [
    {
     "name": "stdout",
     "output_type": "stream",
     "text": [
      "0        2016\n",
      "1        2016\n",
      "2        2017\n",
      "3        2017\n",
      "4        2016\n",
      "         ... \n",
      "13575    2017\n",
      "13576    2017\n",
      "13577    2017\n",
      "13578    2017\n",
      "13579    2017\n",
      "Name: Date, Length: 13580, dtype: int32\n",
      "Min year sold: 2016\n",
      "Max year sold: 2017\n",
      "Mode year sold: 2017\n"
     ]
    }
   ],
   "source": [
    "# ВЫДЕЛЕНИЕ АТРИБУТОВ DATETIME\n",
    "\n",
    "# Тип данных datetime позволяет с помощью специального\n",
    "# аксессора dt \n",
    "# выделять составляющие времени из каждого элемента столбца, такие как:\n",
    "\n",
    "# date — дата;\n",
    "# year, month, day — год, месяц, день;\n",
    "# time — время;\n",
    "# hour, minute, second — час, минута, секунда;\n",
    "# dayofweek — номер дня недели, от 0 до 6, где 0 — понедельник, 6 — воскресенье;\n",
    "# day_name — название дня недели;\n",
    "# dayofyear — порядковый день года;\n",
    "# quarter — квартал (интервал в три месяца).\n",
    "\n",
    "# Аксессор — это атрибут столбца, хранящий переменные, \n",
    "# которые были строковым представлением времени,\n",
    "# а затем были изменены с помощью pd.to_datetime().\n",
    "\n",
    "# Обратите внимание, что вы не сможете обратиться к аксессору,\n",
    "# если ваш столбец не приведён к типу datetime.\n",
    "\n",
    "# Например, обратившись по атрибуту dt.year в столбце Date, \n",
    "# мы можем «достать» год продажи и понять, за какой интервал\n",
    "# времени (в годах) представлены наши данные, а также на \n",
    "# какой год приходится наибольшее число продаж:\n",
    "\n",
    "years_sold = melb_df['Date'].dt.year\n",
    "print(years_sold)\n",
    "print('Min year sold:', years_sold.min())\n",
    "print('Max year sold:', years_sold.max())\n",
    "print('Mode year sold:', years_sold.mode()[0])\n",
    "\n",
    "# В результате обращения к атрибуту datetime melb_df['Date'].dt.year \n",
    "# мы получаем объект Series, \n",
    "# в котором в качестве значений выступают годы продажи объектов недвижимости.\n",
    "# Мы можем занести результат в переменную year_sold \n",
    "# и далее работать с ней как с обычным столбцом Series\n",
    "# — вычислять максимум, минимум и модальное значение.\n",
    "\n",
    "#Из результатов видно,\n",
    "# что данные представлены за интервал с 2016 по 2017 год\n",
    "# и наибольшее количество объектов было продано в 2017 году.\n",
    "\n",
    "# Примечание. \n",
    "# Так как модальных значений в столбце может быть несколько,\n",
    "# метод mode() возвращает объект Series,\n",
    "# даже если мода в данных только одна.\n",
    "# Чтобы сохранить стилистику вывода информации о годе продажи\n",
    "# и выводить только число, а не Series,\n",
    "# мы обращаемся к результату работы метода mode() по индексу 0."
   ]
  },
  {
   "cell_type": "code",
   "execution_count": 11,
   "metadata": {},
   "outputs": [
    {
     "data": {
      "text/plain": [
       "MonthSale\n",
       "5     0.149411\n",
       "7     0.145950\n",
       "9     0.135862\n",
       "6     0.134757\n",
       "8     0.114138\n",
       "11    0.082032\n",
       "4     0.069882\n",
       "3     0.049926\n",
       "12    0.044698\n",
       "10    0.040574\n",
       "2     0.032622\n",
       "1     0.000147\n",
       "Name: proportion, dtype: float64"
      ]
     },
     "execution_count": 11,
     "metadata": {},
     "output_type": "execute_result"
    }
   ],
   "source": [
    "# Теперь попробуем понять, на какие месяцы приходится пик продаж\n",
    "# объектов недвижимости. Для этого выделим атрибут dt.month\n",
    "# и на этот раз занесём результат в столбец MonthSale,\n",
    "# а затем найдём относительную частоту продаж для каждого месяца \n",
    "# от общего количества продаж — \n",
    "# для этого используем метод value_counts()\n",
    "# с параметром normalize (вывод в долях):\n",
    "\n",
    "# Как правило, результаты заносятся в таблицу (в новый столбец),\n",
    "# когда предполагается, что столбец будет использоваться в дальнейшем.\n",
    "# Промежуточные и тренировочные результаты будем записывать в переменные.\n",
    "\n",
    "melb_df['MonthSale'] = melb_df['Date'].dt.month\n",
    "melb_df['MonthSale'].value_counts(normalize=True)\n",
    "\n",
    "# Из результатов становится ясно, что наибольшее количество продаж \n",
    "# недвижимости приходится на май, июль и сентябрь \n",
    "# (пятый, седьмой и девятый месяцы соответственно). \n",
    "# Месяцами застоя при этом являются месяцы\n",
    "# — октябрь, февраль и январь (десятый, второй и первый \n",
    "# месяцы соответственно)."
   ]
  },
  {
   "cell_type": "code",
   "execution_count": 12,
   "metadata": {},
   "outputs": [
    {
     "data": {
      "text/plain": [
       "0       337 days\n",
       "1        34 days\n",
       "2       428 days\n",
       "3       428 days\n",
       "4       155 days\n",
       "          ...   \n",
       "13575   603 days\n",
       "13576   603 days\n",
       "13577   603 days\n",
       "13578   603 days\n",
       "13579   603 days\n",
       "Name: Date, Length: 13580, dtype: timedelta64[ns]"
      ]
     },
     "metadata": {},
     "output_type": "display_data"
    }
   ],
   "source": [
    "# РАБОТА С ИНТЕРВАЛАМИ\n",
    "\n",
    "# Часто бывает такая ситуация, что необходимо\n",
    "# вычислять интервалы между двумя временными промежутками.\n",
    "# Например, можно вычислить, сколько дней прошло \n",
    "# с 1 января 2016 года до момента продажи объекта. \n",
    "# Для этого можно просто найти разницу между датами \n",
    "# продаж и заявленной датой, представленной в формате datetime:\n",
    "delta_days = melb_df['Date'] - pd.to_datetime('2016-01-01') \n",
    "display(delta_days)"
   ]
  },
  {
   "cell_type": "code",
   "execution_count": 13,
   "metadata": {},
   "outputs": [
    {
     "data": {
      "text/plain": [
       "0        337\n",
       "1         34\n",
       "2        428\n",
       "3        428\n",
       "4        155\n",
       "        ... \n",
       "13575    603\n",
       "13576    603\n",
       "13577    603\n",
       "13578    603\n",
       "13579    603\n",
       "Name: Date, Length: 13580, dtype: int32"
      ]
     },
     "metadata": {},
     "output_type": "display_data"
    }
   ],
   "source": [
    "# В результате мы получаем Series,\n",
    "# элементами которой является количество дней,\n",
    "# которое прошло с 1 января 2016 года.\n",
    "# Обратите внимание, что данные такого формата\n",
    "# относятся к типу\n",
    "# timedelta.\n",
    "\n",
    "# Чтобы превратить количество дней \n",
    "# из формата интервала в \n",
    "# формат целого числа дней, \n",
    "# можно воспользоваться аксессором dt\n",
    "# для формата timedelta и извлечь из него\n",
    "# атрибут days:\n",
    "\n",
    "display(delta_days.dt.days)"
   ]
  },
  {
   "cell_type": "code",
   "execution_count": 12,
   "metadata": {},
   "outputs": [
    {
     "data": {
      "text/plain": [
       "0         46\n",
       "1        116\n",
       "2        117\n",
       "3         47\n",
       "4          2\n",
       "        ... \n",
       "13575     36\n",
       "13576     22\n",
       "13577     20\n",
       "13578     97\n",
       "13579     97\n",
       "Name: AgeBuilding, Length: 13580, dtype: int64"
      ]
     },
     "metadata": {},
     "output_type": "display_data"
    }
   ],
   "source": [
    "# Рассмотрим другой пример. \n",
    "# Давайте создадим признак\n",
    "# возраста объекта недвижимости в годах на момент продажи.\n",
    "# Для этого выделим из столбца с датой продажи год \n",
    "# и вычтем из него год постройки здания.\n",
    "# Результат оформим в виде столбца AgeBuilding:\n",
    "\n",
    "melb_df['AgeBuilding'] = melb_df['Date'].dt.year - melb_df['YearBuilt']\n",
    "display(melb_df['AgeBuilding'])"
   ]
  },
  {
   "cell_type": "code",
   "execution_count": 14,
   "metadata": {},
   "outputs": [],
   "source": [
    "# Примечание. Обратите внимание, что, так как года кодируются целым числом,\n",
    "# в результате мы тоже получаем целочисленный столбец\n",
    "# — тип int64 (а не timedelta).\n",
    "\n",
    "# На самом деле столбец AgeBuilding дублирует\n",
    "# информацию столбца YearBuilt,\n",
    "# так как, зная год постройки здания, мы автоматически знаем его возраст.\n",
    "# Такие признаки не стоит оставлять вместе, поэтому оставим возраст здания,\n",
    "# так как он является более наглядным, а год постройки удалим из таблицы:\n",
    "\n",
    "melb_df = melb_df.drop('YearBuilt', axis=1)"
   ]
  },
  {
   "cell_type": "code",
   "execution_count": 15,
   "metadata": {},
   "outputs": [
    {
     "data": {
      "text/plain": [
       "12822"
      ]
     },
     "metadata": {},
     "output_type": "display_data"
    }
   ],
   "source": [
    "# Задание 3.3\n",
    "# \n",
    "# Создайте в таблице melb_df признак WeekdaySale (день недели).\n",
    "# \n",
    "# Найдите, сколько объектов недвижимости было продано \n",
    "# в выходные (суббота и воскресенье),\n",
    "# результат занесите в переменную weekend_count.\n",
    "# В качестве ответа введите результат вывода переменной weekend_count.\n",
    "\n",
    "melb_df['WeekdaySale'] = melb_df['Date'].dt.day_of_week\n",
    "weekend_count = melb_df[melb_df['WeekdaySale'] > 4].shape[0]\n",
    "display(weekend_count)"
   ]
  },
  {
   "cell_type": "code",
   "execution_count": 16,
   "metadata": {},
   "outputs": [
    {
     "name": "stdout",
     "output_type": "stream",
     "text": [
      "Stored 'melb_df' (DataFrame)\n"
     ]
    }
   ],
   "source": [
    "%store melb_df"
   ]
  },
  {
   "cell_type": "code",
   "execution_count": 17,
   "metadata": {},
   "outputs": [
    {
     "name": "stdout",
     "output_type": "stream",
     "text": [
      "<class 'pandas.core.frame.DataFrame'>\n",
      "RangeIndex: 18241 entries, 0 to 18240\n",
      "Data columns (total 5 columns):\n",
      " #   Column           Non-Null Count  Dtype         \n",
      "---  ------           --------------  -----         \n",
      " 0   City             18215 non-null  object        \n",
      " 1   Colors Reported  2882 non-null   object        \n",
      " 2   Shape Reported   15597 non-null  object        \n",
      " 3   State            18241 non-null  object        \n",
      " 4   Time             18241 non-null  datetime64[ns]\n",
      "dtypes: datetime64[ns](1), object(4)\n",
      "memory usage: 712.7+ KB\n"
     ]
    }
   ],
   "source": [
    "# ВВОДНЫЕ ДАННЫЕ ДЛЯ ВЫПОЛНЕНИЯ ЗАДАНИЙ 3.4-3.5\n",
    "\n",
    "# Вам представлены данные (в формате csv) об отчётах\n",
    "# очевидцев НЛО в США за период с 1930 по 2020 год.\n",
    "\n",
    "#В данных есть следующие признаки:\n",
    "\n",
    "# \"City\" — город, где был замечен НЛО;\n",
    "# \"Colors Reported\" — цвет объекта;\n",
    "# \"Shape Reported\" — форма объекта;\n",
    "# \"State\" — обозначение штата;\n",
    "# \"Time\" — время, когда был замечен НЛО \n",
    "#           (данные отсортированы от старых наблюдений к новым). \n",
    "\n",
    "# Прочитайте данные,\n",
    "# сделайте преобразование времени к формату datetime\n",
    "# и выполните задания ниже.\n",
    "\n",
    "ufo_data = pd.read_csv('https://raw.githubusercontent.com/justmarkham/pandas-videos/master/data/ufo.csv', sep=',')\n",
    "ufo_data['Time'] = pd.to_datetime(ufo_data['Time'])\n",
    "ufo_data.info()"
   ]
  },
  {
   "cell_type": "code",
   "execution_count": 27,
   "metadata": {},
   "outputs": [
    {
     "data": {
      "text/plain": [
       "Index([1999], dtype='int32', name='Time')"
      ]
     },
     "execution_count": 27,
     "metadata": {},
     "output_type": "execute_result"
    }
   ],
   "source": [
    "# Задание 3.4\n",
    "\n",
    "# В каком году отмечается наибольшее количество \n",
    "# случаев наблюдения НЛО в США?\n",
    "\n",
    "ufo_data['Time'].dt.year.value_counts().nlargest(1).index\n",
    "\n"
   ]
  },
  {
   "cell_type": "code",
   "execution_count": 32,
   "metadata": {},
   "outputs": [
    {
     "data": {
      "text/html": [
       "<div>\n",
       "<style scoped>\n",
       "    .dataframe tbody tr th:only-of-type {\n",
       "        vertical-align: middle;\n",
       "    }\n",
       "\n",
       "    .dataframe tbody tr th {\n",
       "        vertical-align: top;\n",
       "    }\n",
       "\n",
       "    .dataframe thead th {\n",
       "        text-align: right;\n",
       "    }\n",
       "</style>\n",
       "<table border=\"1\" class=\"dataframe\">\n",
       "  <thead>\n",
       "    <tr style=\"text-align: right;\">\n",
       "      <th></th>\n",
       "      <th>City</th>\n",
       "      <th>Colors Reported</th>\n",
       "      <th>Shape Reported</th>\n",
       "      <th>State</th>\n",
       "      <th>Time</th>\n",
       "    </tr>\n",
       "  </thead>\n",
       "  <tbody>\n",
       "    <tr>\n",
       "      <th>0</th>\n",
       "      <td>Ithaca</td>\n",
       "      <td>NaN</td>\n",
       "      <td>TRIANGLE</td>\n",
       "      <td>NY</td>\n",
       "      <td>1930-06-01 22:00:00</td>\n",
       "    </tr>\n",
       "    <tr>\n",
       "      <th>1</th>\n",
       "      <td>Willingboro</td>\n",
       "      <td>NaN</td>\n",
       "      <td>OTHER</td>\n",
       "      <td>NJ</td>\n",
       "      <td>1930-06-30 20:00:00</td>\n",
       "    </tr>\n",
       "    <tr>\n",
       "      <th>2</th>\n",
       "      <td>Holyoke</td>\n",
       "      <td>NaN</td>\n",
       "      <td>OVAL</td>\n",
       "      <td>CO</td>\n",
       "      <td>1931-02-15 14:00:00</td>\n",
       "    </tr>\n",
       "    <tr>\n",
       "      <th>3</th>\n",
       "      <td>Abilene</td>\n",
       "      <td>NaN</td>\n",
       "      <td>DISK</td>\n",
       "      <td>KS</td>\n",
       "      <td>1931-06-01 13:00:00</td>\n",
       "    </tr>\n",
       "    <tr>\n",
       "      <th>4</th>\n",
       "      <td>New York Worlds Fair</td>\n",
       "      <td>NaN</td>\n",
       "      <td>LIGHT</td>\n",
       "      <td>NY</td>\n",
       "      <td>1933-04-18 19:00:00</td>\n",
       "    </tr>\n",
       "  </tbody>\n",
       "</table>\n",
       "</div>"
      ],
      "text/plain": [
       "                   City Colors Reported Shape Reported State  \\\n",
       "0                Ithaca             NaN       TRIANGLE    NY   \n",
       "1           Willingboro             NaN          OTHER    NJ   \n",
       "2               Holyoke             NaN           OVAL    CO   \n",
       "3               Abilene             NaN           DISK    KS   \n",
       "4  New York Worlds Fair             NaN          LIGHT    NY   \n",
       "\n",
       "                 Time  \n",
       "0 1930-06-01 22:00:00  \n",
       "1 1930-06-30 20:00:00  \n",
       "2 1931-02-15 14:00:00  \n",
       "3 1931-06-01 13:00:00  \n",
       "4 1933-04-18 19:00:00  "
      ]
     },
     "execution_count": 32,
     "metadata": {},
     "output_type": "execute_result"
    }
   ],
   "source": [
    "ufo_data.head()"
   ]
  },
  {
   "cell_type": "code",
   "execution_count": 35,
   "metadata": {},
   "outputs": [
    {
     "data": {
      "text/plain": [
       "69"
      ]
     },
     "execution_count": 35,
     "metadata": {},
     "output_type": "execute_result"
    }
   ],
   "source": [
    "# Задание 3.5\n",
    "\n",
    "# Найдите средний интервал времени (в днях)\n",
    "# между двумя последовательными случаями наблюдения НЛО\n",
    "# в штате Невада (NV).\n",
    "\n",
    "# Чтобы выделить дату из столбца Time, \n",
    "# можно воспользоваться атрибутом datetime date.\n",
    "\n",
    "# Чтобы вычислить разницу между двумя соседними датами в столбце,\n",
    "# примените к нему метод diff().\n",
    "\n",
    "# Чтобы перевести интервал времени в дни, \n",
    "# воспользуйтесь атрибутом timedelta days.\n",
    "\n",
    "x = ufo_data[ufo_data['State'] == 'NV']['Time'].dt.date.diff().dt.days.mean()\n",
    "round(x)"
   ]
  }
 ],
 "metadata": {
  "kernelspec": {
   "display_name": "Python 3",
   "language": "python",
   "name": "python3"
  },
  "language_info": {
   "codemirror_mode": {
    "name": "ipython",
    "version": 3
   },
   "file_extension": ".py",
   "mimetype": "text/x-python",
   "name": "python",
   "nbconvert_exporter": "python",
   "pygments_lexer": "ipython3",
   "version": "3.10.6"
  },
  "orig_nbformat": 4,
  "vscode": {
   "interpreter": {
    "hash": "cf92aa13fedf815d5c8dd192b8d835913fde3e8bc926b2a0ad6cc74ef2ba3ca2"
   }
  }
 },
 "nbformat": 4,
 "nbformat_minor": 2
}
