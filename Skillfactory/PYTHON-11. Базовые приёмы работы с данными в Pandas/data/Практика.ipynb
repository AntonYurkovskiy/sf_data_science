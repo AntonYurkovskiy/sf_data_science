{
 "cells": [
  {
   "cell_type": "code",
   "execution_count": 3,
   "metadata": {},
   "outputs": [
    {
     "data": {
      "text/html": [
       "<div>\n",
       "<style scoped>\n",
       "    .dataframe tbody tr th:only-of-type {\n",
       "        vertical-align: middle;\n",
       "    }\n",
       "\n",
       "    .dataframe tbody tr th {\n",
       "        vertical-align: top;\n",
       "    }\n",
       "\n",
       "    .dataframe thead th {\n",
       "        text-align: right;\n",
       "    }\n",
       "</style>\n",
       "<table border=\"1\" class=\"dataframe\">\n",
       "  <thead>\n",
       "    <tr style=\"text-align: right;\">\n",
       "      <th></th>\n",
       "      <th>starttime</th>\n",
       "      <th>stoptime</th>\n",
       "      <th>start station id</th>\n",
       "      <th>start station name</th>\n",
       "      <th>start station latitude</th>\n",
       "      <th>start station longitude</th>\n",
       "      <th>end station id</th>\n",
       "      <th>end station name</th>\n",
       "      <th>end station latitude</th>\n",
       "      <th>end station longitude</th>\n",
       "      <th>bikeid</th>\n",
       "      <th>usertype</th>\n",
       "      <th>birth year</th>\n",
       "      <th>gender</th>\n",
       "    </tr>\n",
       "  </thead>\n",
       "  <tbody>\n",
       "    <tr>\n",
       "      <th>0</th>\n",
       "      <td>2018-09-01 00:00:05.2690</td>\n",
       "      <td>2018-09-01 00:27:20.6340</td>\n",
       "      <td>252.0</td>\n",
       "      <td>MacDougal St &amp; Washington Sq</td>\n",
       "      <td>40.732264</td>\n",
       "      <td>-73.998522</td>\n",
       "      <td>366.0</td>\n",
       "      <td>Clinton Ave &amp; Myrtle Ave</td>\n",
       "      <td>40.693261</td>\n",
       "      <td>-73.968896</td>\n",
       "      <td>25577</td>\n",
       "      <td>Subscriber</td>\n",
       "      <td>1980</td>\n",
       "      <td>1</td>\n",
       "    </tr>\n",
       "    <tr>\n",
       "      <th>1</th>\n",
       "      <td>2018-09-01 00:00:11.2810</td>\n",
       "      <td>2018-09-01 00:02:23.4810</td>\n",
       "      <td>314.0</td>\n",
       "      <td>Cadman Plaza West &amp; Montague St</td>\n",
       "      <td>40.693830</td>\n",
       "      <td>-73.990539</td>\n",
       "      <td>3242.0</td>\n",
       "      <td>Schermerhorn St &amp; Court St</td>\n",
       "      <td>40.691029</td>\n",
       "      <td>-73.991834</td>\n",
       "      <td>34377</td>\n",
       "      <td>Subscriber</td>\n",
       "      <td>1969</td>\n",
       "      <td>0</td>\n",
       "    </tr>\n",
       "    <tr>\n",
       "      <th>2</th>\n",
       "      <td>2018-09-01 00:00:20.6490</td>\n",
       "      <td>2018-09-01 00:55:58.5470</td>\n",
       "      <td>3142.0</td>\n",
       "      <td>1 Ave &amp; E 62 St</td>\n",
       "      <td>40.761227</td>\n",
       "      <td>-73.960940</td>\n",
       "      <td>3384.0</td>\n",
       "      <td>Smith St &amp; 3 St</td>\n",
       "      <td>40.678724</td>\n",
       "      <td>-73.995991</td>\n",
       "      <td>30496</td>\n",
       "      <td>Subscriber</td>\n",
       "      <td>1975</td>\n",
       "      <td>1</td>\n",
       "    </tr>\n",
       "    <tr>\n",
       "      <th>3</th>\n",
       "      <td>2018-09-01 00:00:21.7460</td>\n",
       "      <td>2018-09-01 00:07:38.5830</td>\n",
       "      <td>308.0</td>\n",
       "      <td>St James Pl &amp; Oliver St</td>\n",
       "      <td>40.713079</td>\n",
       "      <td>-73.998512</td>\n",
       "      <td>3690.0</td>\n",
       "      <td>Park Pl &amp; Church St</td>\n",
       "      <td>40.713342</td>\n",
       "      <td>-74.009355</td>\n",
       "      <td>28866</td>\n",
       "      <td>Subscriber</td>\n",
       "      <td>1984</td>\n",
       "      <td>2</td>\n",
       "    </tr>\n",
       "    <tr>\n",
       "      <th>4</th>\n",
       "      <td>2018-09-01 00:00:27.3150</td>\n",
       "      <td>2018-09-01 02:21:25.3080</td>\n",
       "      <td>345.0</td>\n",
       "      <td>W 13 St &amp; 6 Ave</td>\n",
       "      <td>40.736494</td>\n",
       "      <td>-73.997044</td>\n",
       "      <td>380.0</td>\n",
       "      <td>W 4 St &amp; 7 Ave S</td>\n",
       "      <td>40.734011</td>\n",
       "      <td>-74.002939</td>\n",
       "      <td>20943</td>\n",
       "      <td>Customer</td>\n",
       "      <td>1994</td>\n",
       "      <td>1</td>\n",
       "    </tr>\n",
       "  </tbody>\n",
       "</table>\n",
       "</div>"
      ],
      "text/plain": [
       "                  starttime                  stoptime  start station id  \\\n",
       "0  2018-09-01 00:00:05.2690  2018-09-01 00:27:20.6340             252.0   \n",
       "1  2018-09-01 00:00:11.2810  2018-09-01 00:02:23.4810             314.0   \n",
       "2  2018-09-01 00:00:20.6490  2018-09-01 00:55:58.5470            3142.0   \n",
       "3  2018-09-01 00:00:21.7460  2018-09-01 00:07:38.5830             308.0   \n",
       "4  2018-09-01 00:00:27.3150  2018-09-01 02:21:25.3080             345.0   \n",
       "\n",
       "                start station name  start station latitude  \\\n",
       "0     MacDougal St & Washington Sq               40.732264   \n",
       "1  Cadman Plaza West & Montague St               40.693830   \n",
       "2                  1 Ave & E 62 St               40.761227   \n",
       "3          St James Pl & Oliver St               40.713079   \n",
       "4                  W 13 St & 6 Ave               40.736494   \n",
       "\n",
       "   start station longitude  end station id            end station name  \\\n",
       "0               -73.998522           366.0    Clinton Ave & Myrtle Ave   \n",
       "1               -73.990539          3242.0  Schermerhorn St & Court St   \n",
       "2               -73.960940          3384.0             Smith St & 3 St   \n",
       "3               -73.998512          3690.0         Park Pl & Church St   \n",
       "4               -73.997044           380.0            W 4 St & 7 Ave S   \n",
       "\n",
       "   end station latitude  end station longitude  bikeid    usertype  \\\n",
       "0             40.693261             -73.968896   25577  Subscriber   \n",
       "1             40.691029             -73.991834   34377  Subscriber   \n",
       "2             40.678724             -73.995991   30496  Subscriber   \n",
       "3             40.713342             -74.009355   28866  Subscriber   \n",
       "4             40.734011             -74.002939   20943    Customer   \n",
       "\n",
       "   birth year  gender  \n",
       "0        1980       1  \n",
       "1        1969       0  \n",
       "2        1975       1  \n",
       "3        1984       2  \n",
       "4        1994       1  "
      ]
     },
     "metadata": {},
     "output_type": "display_data"
    }
   ],
   "source": [
    "import pandas as pd\n",
    "trip_data = pd.read_csv('data/citibike-tripdata.csv', sep=',')\n",
    "trip_df = trip_data.copy()\n",
    "\n",
    "display(trip_df.head())"
   ]
  },
  {
   "cell_type": "markdown",
   "metadata": {},
   "source": []
  },
  {
   "cell_type": "code",
   "execution_count": 4,
   "metadata": {},
   "outputs": [
    {
     "data": {
      "text/plain": [
       "169"
      ]
     },
     "execution_count": 4,
     "metadata": {},
     "output_type": "execute_result"
    }
   ],
   "source": [
    "# Задание 6.1\n",
    "\n",
    "# Сколько пропусков в столбце start station id?\n",
    "\n",
    "trip_df.shape[0] - trip_df['start station id'].count()"
   ]
  },
  {
   "cell_type": "code",
   "execution_count": 5,
   "metadata": {},
   "outputs": [
    {
     "name": "stdout",
     "output_type": "stream",
     "text": [
      "<class 'pandas.core.frame.DataFrame'>\n",
      "RangeIndex: 300000 entries, 0 to 299999\n",
      "Data columns (total 14 columns):\n",
      " #   Column                   Non-Null Count   Dtype  \n",
      "---  ------                   --------------   -----  \n",
      " 0   starttime                300000 non-null  object \n",
      " 1   stoptime                 300000 non-null  object \n",
      " 2   start station id         299831 non-null  float64\n",
      " 3   start station name       299831 non-null  object \n",
      " 4   start station latitude   300000 non-null  float64\n",
      " 5   start station longitude  300000 non-null  float64\n",
      " 6   end station id           299831 non-null  float64\n",
      " 7   end station name         299831 non-null  object \n",
      " 8   end station latitude     300000 non-null  float64\n",
      " 9   end station longitude    300000 non-null  float64\n",
      " 10  bikeid                   300000 non-null  int64  \n",
      " 11  usertype                 300000 non-null  object \n",
      " 12  birth year               300000 non-null  int64  \n",
      " 13  gender                   300000 non-null  int64  \n",
      "dtypes: float64(6), int64(3), object(5)\n",
      "memory usage: 32.0+ MB\n"
     ]
    }
   ],
   "source": [
    "# Задание 6.2\n",
    "#\n",
    "# Какой тип данных имеют столбцы starttime и stoptime?\n",
    "trip_df.info()"
   ]
  },
  {
   "cell_type": "code",
   "execution_count": 6,
   "metadata": {},
   "outputs": [
    {
     "name": "stdout",
     "output_type": "stream",
     "text": [
      "0    281.0\n",
      "Name: start station id, dtype: float64\n"
     ]
    }
   ],
   "source": [
    "# Задание 6.3\n",
    "\n",
    "# Найдите идентификатор самой популярной стартовой стоянки.\n",
    "# Запишите идентификатор в виде целого числа.\n",
    "# \n",
    "x = trip_df['start station id'].mode()\n",
    "print(round(x))"
   ]
  },
  {
   "cell_type": "code",
   "execution_count": 7,
   "metadata": {},
   "outputs": [
    {
     "data": {
      "text/plain": [
       "0    33887\n",
       "Name: bikeid, dtype: int64"
      ]
     },
     "execution_count": 7,
     "metadata": {},
     "output_type": "execute_result"
    }
   ],
   "source": [
    "# Задание 6.4\n",
    "# point possible (graded)\n",
    "# Велосипед с каким идентификатором является самым популярным?\n",
    "trip_df['bikeid'].mode()"
   ]
  },
  {
   "cell_type": "code",
   "execution_count": 8,
   "metadata": {},
   "outputs": [
    {
     "name": "stdout",
     "output_type": "stream",
     "text": [
      "Subscriber    0.77\n",
      "Name: usertype, dtype: float64\n"
     ]
    }
   ],
   "source": [
    "# Задание 6.5\n",
    "#\n",
    "# Какой тип клиентов (столбец usertype)\n",
    "# является преобладающим \n",
    "# — Subscriber \n",
    "# или Customer? \n",
    "# \n",
    "# В качестве ответа запишите долю клиентов\n",
    "# преобладающего типа\n",
    "# среди общего количества клиентов.\n",
    "# Ответ округлите до сотых.\n",
    "res = trip_df['usertype'].value_counts(normalize=True)\n",
    "print(round(res.nlargest(1),2))"
   ]
  },
  {
   "cell_type": "code",
   "execution_count": 9,
   "metadata": {},
   "outputs": [
    {
     "data": {
      "text/plain": [
       "183582"
      ]
     },
     "execution_count": 9,
     "metadata": {},
     "output_type": "execute_result"
    }
   ],
   "source": [
    "# Задание 6.6\n",
    "\n",
    "# Кто больше занимается велоспортом\n",
    "# — мужчины\n",
    "# или женщины?\n",
    "# В ответ запишите число поездок для той группы, у которой их больше.\n",
    "\n",
    "most_common = trip_df['gender'].mode().shape[0]\n",
    "trip_df[trip_df['gender'] == most_common]['gender'].shape[0]"
   ]
  },
  {
   "cell_type": "code",
   "execution_count": 10,
   "metadata": {},
   "outputs": [
    {
     "name": "stdout",
     "output_type": "stream",
     "text": [
      "True\n",
      "16\n",
      "West St & Chambers St          1963\n",
      "12 Ave & W 40 St               1909\n",
      "Pershing Square North          1850\n",
      "Central Park S & 6 Ave         1828\n",
      "E 17 St & Broadway             1804\n",
      "                               ... \n",
      "Exchange Place                    3\n",
      "Union St                          1\n",
      "Warren St                         1\n",
      "Montrose Ave & Bushwick Ave       1\n",
      "Liberty Light Rail                1\n",
      "Name: end station name, Length: 765, dtype: int64\n",
      "0    False\n",
      "Name: end station name, dtype: bool\n"
     ]
    }
   ],
   "source": [
    "# Задание 6.7\n",
    "\n",
    "# Выберите утверждения,которые соответствуют нашим данным:\n",
    "\n",
    "# A Число уникальных стартовых и конечных стоянок,\n",
    "# которыми воспользовались клиенты, не равны друг другу\n",
    "print(trip_df['start station name'].nunique() != trip_df['end station name'].nunique())\n",
    "\n",
    "# B В рассматриваемые дни минимальный возраст клиента составлял 10 лет\n",
    "client_age = pd.to_datetime(trip_df['starttime'], yearfirst=True).dt.year - trip_df['birth year']  \n",
    "print(client_age.min())\n",
    "\n",
    "# C Самой непопулярной стартовой стоянкой из тех,\n",
    "# которыми воспользовались клиенты,\n",
    "# является стоянка с названием \"Eastern Pkwy & Washington Ave\"\n",
    "print(trip_df['end station name'].value_counts())\n",
    "# D Наибольшее количество поездок завершается \n",
    "# на стоянке под названием \"Liberty Light Rail\"\n",
    "print(trip_df['end station name'].mode() == 'Liberty Light Rail')"
   ]
  },
  {
   "cell_type": "code",
   "execution_count": null,
   "metadata": {},
   "outputs": [],
   "source": [
    "# Задание 6.8\n",
    "\n",
    "# В первую очередь удалим лишнюю информацию из данных.\n",
    "# В наших данных присутствуют столбцы,\n",
    "# которые дублируют информацию друг о друге:\n",
    "# это столбцы с идентификатором и названием стартовой и конечной стоянки.\n",
    "# Удалите признаки идентификаторов стоянок.\n",
    "# Сколько столбцов осталось?\n",
    "trip_df = trip_df.drop('start station id', axis=1)\n",
    "trip_df.info()"
   ]
  },
  {
   "cell_type": "code",
   "execution_count": 15,
   "metadata": {},
   "outputs": [
    {
     "name": "stdout",
     "output_type": "stream",
     "text": [
      "<class 'pandas.core.frame.DataFrame'>\n",
      "RangeIndex: 300000 entries, 0 to 299999\n",
      "Data columns (total 12 columns):\n",
      " #   Column                   Non-Null Count   Dtype  \n",
      "---  ------                   --------------   -----  \n",
      " 0   starttime                300000 non-null  object \n",
      " 1   stoptime                 300000 non-null  object \n",
      " 2   start station name       299831 non-null  object \n",
      " 3   start station latitude   300000 non-null  float64\n",
      " 4   start station longitude  300000 non-null  float64\n",
      " 5   end station name         299831 non-null  object \n",
      " 6   end station latitude     300000 non-null  float64\n",
      " 7   end station longitude    300000 non-null  float64\n",
      " 8   bikeid                   300000 non-null  int64  \n",
      " 9   usertype                 300000 non-null  object \n",
      " 10  birth year               300000 non-null  int64  \n",
      " 11  gender                   300000 non-null  int64  \n",
      "dtypes: float64(4), int64(3), object(5)\n",
      "memory usage: 27.5+ MB\n"
     ]
    }
   ],
   "source": [
    "trip_df = trip_df.drop('end station id', axis=1)\n",
    "trip_df.info()"
   ]
  },
  {
   "cell_type": "code",
   "execution_count": 17,
   "metadata": {},
   "outputs": [
    {
     "data": {
      "text/plain": [
       "11837"
      ]
     },
     "metadata": {},
     "output_type": "display_data"
    }
   ],
   "source": [
    "# Задание 6.9\n",
    "\n",
    "# Замените признак birth year\n",
    "# на более понятный признак возраста клиента\n",
    "# age.\n",
    "# Годом отсчёта возраста выберите 2018 год.\n",
    "# Столбец birth year удалите из таблицы.\n",
    "# Сколько поездок совершено клиентами старше 60 лет?\n",
    "trip_df['age'] = client_age\n",
    "trip_amount_age_more_60 = trip_df[trip_df['age']> 60].shape[0]\n",
    "display(trip_amount_age_more_60)"
   ]
  },
  {
   "cell_type": "code",
   "execution_count": 18,
   "metadata": {},
   "outputs": [
    {
     "name": "stdout",
     "output_type": "stream",
     "text": [
      "<class 'pandas.core.frame.DataFrame'>\n",
      "RangeIndex: 300000 entries, 0 to 299999\n",
      "Data columns (total 12 columns):\n",
      " #   Column                   Non-Null Count   Dtype  \n",
      "---  ------                   --------------   -----  \n",
      " 0   starttime                300000 non-null  object \n",
      " 1   stoptime                 300000 non-null  object \n",
      " 2   start station name       299831 non-null  object \n",
      " 3   start station latitude   300000 non-null  float64\n",
      " 4   start station longitude  300000 non-null  float64\n",
      " 5   end station name         299831 non-null  object \n",
      " 6   end station latitude     300000 non-null  float64\n",
      " 7   end station longitude    300000 non-null  float64\n",
      " 8   bikeid                   300000 non-null  int64  \n",
      " 9   usertype                 300000 non-null  object \n",
      " 10  gender                   300000 non-null  int64  \n",
      " 11  age                      300000 non-null  int64  \n",
      "dtypes: float64(4), int64(3), object(5)\n",
      "memory usage: 27.5+ MB\n"
     ]
    }
   ],
   "source": [
    "trip_df = trip_df.drop('birth year', axis=1)\n",
    "trip_df.info()"
   ]
  },
  {
   "cell_type": "code",
   "execution_count": 34,
   "metadata": {},
   "outputs": [
    {
     "data": {
      "text/plain": [
       "7"
      ]
     },
     "metadata": {},
     "output_type": "display_data"
    }
   ],
   "source": [
    "# Задание 6.10\n",
    "\n",
    "# Создайте признак длительности поездки trip duration.\n",
    "# Для этого вычислите интервал времени между временем окончания поездки (stoptime) и её началом (starttime).\n",
    "trip_df['stoptime'] = pd.to_datetime(trip_df['stoptime'], yearfirst=True)\n",
    "trip_df['starttime'] = pd.to_datetime(trip_df['starttime'], yearfirst=True)\n",
    "trip_df['trip duration'] = trip_df['stoptime'] - trip_df['starttime']\n",
    "\n",
    "# Сколько целых минут длилась поездка под индексом 3 в таблице?\n",
    "minutes = trip_df['trip duration'].dt.seconds//60\n",
    "display(minutes[3])"
   ]
  },
  {
   "cell_type": "code",
   "execution_count": 41,
   "metadata": {},
   "outputs": [
    {
     "data": {
      "text/plain": [
       "115135"
      ]
     },
     "execution_count": 41,
     "metadata": {},
     "output_type": "execute_result"
    }
   ],
   "source": [
    "# Задание 6.11\n",
    "#\n",
    "# Создайте «признак-мигалку» weekend\n",
    "# , который равен 1, если поездка начиналась в выходной день (суббота или воскресенье),\n",
    "# и 0 — в противном случае. \n",
    "trip_df['weekend'] = trip_df['starttime'].dt.day_of_week > 4\n",
    "\n",
    "# Выясните, сколько поездок начиналось в выходные.\n",
    "trip_df[trip_df['weekend']]['starttime'].shape[0]\n",
    "\n"
   ]
  },
  {
   "cell_type": "code",
   "execution_count": 53,
   "metadata": {},
   "outputs": [
    {
     "name": "stdout",
     "output_type": "stream",
     "text": [
      "9\n"
     ]
    }
   ],
   "source": [
    "# Задание 6.12\n",
    "# Создайте признак времени суток поездки time_of_day. \n",
    "# Время суток будем определять из часа начала поездки.\n",
    "def time_of_day(time):\n",
    "    if 0 <= time <= 6:\n",
    "        res = 'night' \n",
    "    if 6 < time <= 12:\n",
    "        res = 'morning'\n",
    "    if 12 < time <= 18:\n",
    "        res = 'day'\n",
    "    if 18 < time < 24:\n",
    "        res = 'evening'\n",
    "    return res \n",
    "\n",
    "#print(time_of_day(7))\n",
    "# \n",
    "# Условимся, что:\n",
    "#поездка совершается ночью (night),\n",
    "# если её час приходится на интервал\n",
    "# от 0 (включительно) до 6 (включительно) часов;\n",
    "\n",
    "# поездка совершается утром (morning),\n",
    "# если её час приходится на интервал\n",
    "# от 6 (не включительно) до 12 (включительно) часов;\n",
    "\n",
    "# поездка совершается днём (day),\n",
    "# если её час приходится на интервал\n",
    "# от 12 (не включительно) до 18 (включительно) часов;\n",
    "\n",
    "# поездка совершается вечером (evening),\n",
    "# если её час приходится на интервал\n",
    "# от 18 (не включительно) до 23 часов (включительно).\n",
    "trip_df['time_of_day'] = trip_df['starttime'].dt.hour.apply(time_of_day)\n",
    "\n",
    "# Во сколько раз количество поездок, совершённых днём,\n",
    "day_trip_amount = trip_df[trip_df['time_of_day'] == 'day']['time_of_day'].shape[0]\n",
    "\n",
    "# больше, чем количество поездок,\n",
    "# совёршенных ночью,\n",
    "night_trip_amount = trip_df[trip_df['time_of_day'] == 'night']['time_of_day'].shape[0]\n",
    "# за представленный в данных период времени?\n",
    "# Ответ округлите до целых.\n",
    "print(round(day_trip_amount / night_trip_amount))"
   ]
  },
  {
   "cell_type": "code",
   "execution_count": 54,
   "metadata": {},
   "outputs": [
    {
     "name": "stdout",
     "output_type": "stream",
     "text": [
      "<class 'pandas.core.frame.DataFrame'>\n",
      "RangeIndex: 300000 entries, 0 to 299999\n",
      "Data columns (total 15 columns):\n",
      " #   Column                   Non-Null Count   Dtype          \n",
      "---  ------                   --------------   -----          \n",
      " 0   starttime                300000 non-null  datetime64[ns] \n",
      " 1   stoptime                 300000 non-null  datetime64[ns] \n",
      " 2   start station name       299831 non-null  object         \n",
      " 3   start station latitude   300000 non-null  float64        \n",
      " 4   start station longitude  300000 non-null  float64        \n",
      " 5   end station name         299831 non-null  object         \n",
      " 6   end station latitude     300000 non-null  float64        \n",
      " 7   end station longitude    300000 non-null  float64        \n",
      " 8   bikeid                   300000 non-null  int64          \n",
      " 9   usertype                 300000 non-null  object         \n",
      " 10  gender                   300000 non-null  int64          \n",
      " 11  age                      300000 non-null  int64          \n",
      " 12  trip duration            300000 non-null  timedelta64[ns]\n",
      " 13  weekend                  300000 non-null  bool           \n",
      " 14  time_of_day              300000 non-null  object         \n",
      "dtypes: bool(1), datetime64[ns](2), float64(4), int64(3), object(4), timedelta64[ns](1)\n",
      "memory usage: 32.3+ MB\n"
     ]
    }
   ],
   "source": [
    "trip_df.info()"
   ]
  },
  {
   "cell_type": "code",
   "execution_count": 55,
   "metadata": {},
   "outputs": [
    {
     "name": "stdout",
     "output_type": "stream",
     "text": [
      "<class 'pandas.core.frame.DataFrame'>\n",
      "RangeIndex: 300000 entries, 0 to 299999\n",
      "Data columns (total 15 columns):\n",
      " #   Column                   Non-Null Count   Dtype          \n",
      "---  ------                   --------------   -----          \n",
      " 0   starttime                300000 non-null  datetime64[ns] \n",
      " 1   stoptime                 300000 non-null  datetime64[ns] \n",
      " 2   start station name       299831 non-null  object         \n",
      " 3   start station latitude   300000 non-null  float64        \n",
      " 4   start station longitude  300000 non-null  float64        \n",
      " 5   end station name         299831 non-null  object         \n",
      " 6   end station latitude     300000 non-null  float64        \n",
      " 7   end station longitude    300000 non-null  float64        \n",
      " 8   bikeid                   300000 non-null  int64          \n",
      " 9   usertype                 300000 non-null  object         \n",
      " 10  gender                   300000 non-null  int64          \n",
      " 11  age                      300000 non-null  int64          \n",
      " 12  trip duration            300000 non-null  timedelta64[ns]\n",
      " 13  weekend                  300000 non-null  bool           \n",
      " 14  time_of_day              300000 non-null  category       \n",
      "dtypes: bool(1), category(1), datetime64[ns](2), float64(4), int64(3), object(3), timedelta64[ns](1)\n",
      "memory usage: 30.3+ MB\n"
     ]
    }
   ],
   "source": [
    "trip_df['time_of_day'] = trip_df['time_of_day'].astype('category')\n",
    "trip_df.info()"
   ]
  },
  {
   "cell_type": "code",
   "execution_count": 56,
   "metadata": {},
   "outputs": [
    {
     "name": "stdout",
     "output_type": "stream",
     "text": [
      "<class 'pandas.core.frame.DataFrame'>\n",
      "RangeIndex: 300000 entries, 0 to 299999\n",
      "Data columns (total 15 columns):\n",
      " #   Column                   Non-Null Count   Dtype          \n",
      "---  ------                   --------------   -----          \n",
      " 0   starttime                300000 non-null  datetime64[ns] \n",
      " 1   stoptime                 300000 non-null  datetime64[ns] \n",
      " 2   start station name       299831 non-null  object         \n",
      " 3   start station latitude   300000 non-null  float64        \n",
      " 4   start station longitude  300000 non-null  float64        \n",
      " 5   end station name         299831 non-null  object         \n",
      " 6   end station latitude     300000 non-null  float64        \n",
      " 7   end station longitude    300000 non-null  float64        \n",
      " 8   bikeid                   300000 non-null  int64          \n",
      " 9   usertype                 300000 non-null  category       \n",
      " 10  gender                   300000 non-null  category       \n",
      " 11  age                      300000 non-null  int64          \n",
      " 12  trip duration            300000 non-null  timedelta64[ns]\n",
      " 13  weekend                  300000 non-null  bool           \n",
      " 14  time_of_day              300000 non-null  category       \n",
      "dtypes: bool(1), category(3), datetime64[ns](2), float64(4), int64(2), object(2), timedelta64[ns](1)\n",
      "memory usage: 26.3+ MB\n"
     ]
    }
   ],
   "source": [
    "trip_df['usertype'] = trip_df['usertype'].astype('category')\n",
    "trip_df['gender'] = trip_df['gender'].astype('category')\n",
    "\n",
    "trip_df.info()"
   ]
  }
 ],
 "metadata": {
  "kernelspec": {
   "display_name": "Python 3",
   "language": "python",
   "name": "python3"
  },
  "language_info": {
   "codemirror_mode": {
    "name": "ipython",
    "version": 3
   },
   "file_extension": ".py",
   "mimetype": "text/x-python",
   "name": "python",
   "nbconvert_exporter": "python",
   "pygments_lexer": "ipython3",
   "version": "3.9.10 (tags/v3.9.10:f2f3f53, Jan 17 2022, 15:14:21) [MSC v.1929 64 bit (AMD64)]"
  },
  "orig_nbformat": 4,
  "vscode": {
   "interpreter": {
    "hash": "cf92aa13fedf815d5c8dd192b8d835913fde3e8bc926b2a0ad6cc74ef2ba3ca2"
   }
  }
 },
 "nbformat": 4,
 "nbformat_minor": 2
}
