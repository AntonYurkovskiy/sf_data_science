{
 "cells": [
  {
   "cell_type": "code",
   "execution_count": 1,
   "metadata": {},
   "outputs": [
    {
     "data": {
      "text/html": [
       "<div>\n",
       "<style scoped>\n",
       "    .dataframe tbody tr th:only-of-type {\n",
       "        vertical-align: middle;\n",
       "    }\n",
       "\n",
       "    .dataframe tbody tr th {\n",
       "        vertical-align: top;\n",
       "    }\n",
       "\n",
       "    .dataframe thead th {\n",
       "        text-align: right;\n",
       "    }\n",
       "</style>\n",
       "<table border=\"1\" class=\"dataframe\">\n",
       "  <thead>\n",
       "    <tr style=\"text-align: right;\">\n",
       "      <th></th>\n",
       "      <th>index</th>\n",
       "      <th>Suburb</th>\n",
       "      <th>Address</th>\n",
       "      <th>Rooms</th>\n",
       "      <th>Type</th>\n",
       "      <th>Price</th>\n",
       "      <th>Method</th>\n",
       "      <th>SellerG</th>\n",
       "      <th>Date</th>\n",
       "      <th>Distance</th>\n",
       "      <th>...</th>\n",
       "      <th>Landsize</th>\n",
       "      <th>BuildingArea</th>\n",
       "      <th>CouncilArea</th>\n",
       "      <th>Lattitude</th>\n",
       "      <th>Longtitude</th>\n",
       "      <th>Regionname</th>\n",
       "      <th>Propertycount</th>\n",
       "      <th>Coordinates</th>\n",
       "      <th>MonthSale</th>\n",
       "      <th>WeekdaySale</th>\n",
       "    </tr>\n",
       "  </thead>\n",
       "  <tbody>\n",
       "    <tr>\n",
       "      <th>0</th>\n",
       "      <td>0</td>\n",
       "      <td>Abbotsford</td>\n",
       "      <td>85 Turner St</td>\n",
       "      <td>2</td>\n",
       "      <td>h</td>\n",
       "      <td>1480000.0</td>\n",
       "      <td>S</td>\n",
       "      <td>Biggin</td>\n",
       "      <td>2016-12-03</td>\n",
       "      <td>2.5</td>\n",
       "      <td>...</td>\n",
       "      <td>202.0</td>\n",
       "      <td>126.0</td>\n",
       "      <td>Yarra</td>\n",
       "      <td>-37.7996</td>\n",
       "      <td>144.9984</td>\n",
       "      <td>Northern Metropolitan</td>\n",
       "      <td>4019</td>\n",
       "      <td>-37.7996, 144.9984</td>\n",
       "      <td>12</td>\n",
       "      <td>5</td>\n",
       "    </tr>\n",
       "    <tr>\n",
       "      <th>1</th>\n",
       "      <td>1</td>\n",
       "      <td>Abbotsford</td>\n",
       "      <td>25 Bloomburg St</td>\n",
       "      <td>2</td>\n",
       "      <td>h</td>\n",
       "      <td>1035000.0</td>\n",
       "      <td>S</td>\n",
       "      <td>Biggin</td>\n",
       "      <td>2016-02-04</td>\n",
       "      <td>2.5</td>\n",
       "      <td>...</td>\n",
       "      <td>156.0</td>\n",
       "      <td>79.0</td>\n",
       "      <td>Yarra</td>\n",
       "      <td>-37.8079</td>\n",
       "      <td>144.9934</td>\n",
       "      <td>Northern Metropolitan</td>\n",
       "      <td>4019</td>\n",
       "      <td>-37.8079, 144.9934</td>\n",
       "      <td>2</td>\n",
       "      <td>3</td>\n",
       "    </tr>\n",
       "    <tr>\n",
       "      <th>2</th>\n",
       "      <td>2</td>\n",
       "      <td>Abbotsford</td>\n",
       "      <td>5 Charles St</td>\n",
       "      <td>3</td>\n",
       "      <td>h</td>\n",
       "      <td>1465000.0</td>\n",
       "      <td>SP</td>\n",
       "      <td>Biggin</td>\n",
       "      <td>2017-03-04</td>\n",
       "      <td>2.5</td>\n",
       "      <td>...</td>\n",
       "      <td>134.0</td>\n",
       "      <td>150.0</td>\n",
       "      <td>Yarra</td>\n",
       "      <td>-37.8093</td>\n",
       "      <td>144.9944</td>\n",
       "      <td>Northern Metropolitan</td>\n",
       "      <td>4019</td>\n",
       "      <td>-37.8093, 144.9944</td>\n",
       "      <td>3</td>\n",
       "      <td>5</td>\n",
       "    </tr>\n",
       "    <tr>\n",
       "      <th>3</th>\n",
       "      <td>3</td>\n",
       "      <td>Abbotsford</td>\n",
       "      <td>40 Federation La</td>\n",
       "      <td>3</td>\n",
       "      <td>h</td>\n",
       "      <td>850000.0</td>\n",
       "      <td>PI</td>\n",
       "      <td>Biggin</td>\n",
       "      <td>2017-03-04</td>\n",
       "      <td>2.5</td>\n",
       "      <td>...</td>\n",
       "      <td>94.0</td>\n",
       "      <td>126.0</td>\n",
       "      <td>Yarra</td>\n",
       "      <td>-37.7969</td>\n",
       "      <td>144.9969</td>\n",
       "      <td>Northern Metropolitan</td>\n",
       "      <td>4019</td>\n",
       "      <td>-37.7969, 144.9969</td>\n",
       "      <td>3</td>\n",
       "      <td>5</td>\n",
       "    </tr>\n",
       "    <tr>\n",
       "      <th>4</th>\n",
       "      <td>4</td>\n",
       "      <td>Abbotsford</td>\n",
       "      <td>55a Park St</td>\n",
       "      <td>4</td>\n",
       "      <td>h</td>\n",
       "      <td>1600000.0</td>\n",
       "      <td>VB</td>\n",
       "      <td>Nelson</td>\n",
       "      <td>2016-06-04</td>\n",
       "      <td>2.5</td>\n",
       "      <td>...</td>\n",
       "      <td>120.0</td>\n",
       "      <td>142.0</td>\n",
       "      <td>Yarra</td>\n",
       "      <td>-37.8072</td>\n",
       "      <td>144.9941</td>\n",
       "      <td>Northern Metropolitan</td>\n",
       "      <td>4019</td>\n",
       "      <td>-37.8072, 144.9941</td>\n",
       "      <td>6</td>\n",
       "      <td>5</td>\n",
       "    </tr>\n",
       "  </tbody>\n",
       "</table>\n",
       "<p>5 rows × 24 columns</p>\n",
       "</div>"
      ],
      "text/plain": [
       "   index      Suburb           Address  Rooms Type      Price Method SellerG   \n",
       "0      0  Abbotsford      85 Turner St      2    h  1480000.0      S  Biggin  \\\n",
       "1      1  Abbotsford   25 Bloomburg St      2    h  1035000.0      S  Biggin   \n",
       "2      2  Abbotsford      5 Charles St      3    h  1465000.0     SP  Biggin   \n",
       "3      3  Abbotsford  40 Federation La      3    h   850000.0     PI  Biggin   \n",
       "4      4  Abbotsford       55a Park St      4    h  1600000.0     VB  Nelson   \n",
       "\n",
       "        Date  Distance  ...  Landsize  BuildingArea  CouncilArea  Lattitude   \n",
       "0 2016-12-03       2.5  ...     202.0         126.0        Yarra   -37.7996  \\\n",
       "1 2016-02-04       2.5  ...     156.0          79.0        Yarra   -37.8079   \n",
       "2 2017-03-04       2.5  ...     134.0         150.0        Yarra   -37.8093   \n",
       "3 2017-03-04       2.5  ...      94.0         126.0        Yarra   -37.7969   \n",
       "4 2016-06-04       2.5  ...     120.0         142.0        Yarra   -37.8072   \n",
       "\n",
       "   Longtitude             Regionname Propertycount         Coordinates   \n",
       "0    144.9984  Northern Metropolitan          4019  -37.7996, 144.9984  \\\n",
       "1    144.9934  Northern Metropolitan          4019  -37.8079, 144.9934   \n",
       "2    144.9944  Northern Metropolitan          4019  -37.8093, 144.9944   \n",
       "3    144.9969  Northern Metropolitan          4019  -37.7969, 144.9969   \n",
       "4    144.9941  Northern Metropolitan          4019  -37.8072, 144.9941   \n",
       "\n",
       "   MonthSale WeekdaySale  \n",
       "0         12           5  \n",
       "1          2           3  \n",
       "2          3           5  \n",
       "3          3           5  \n",
       "4          6           5  \n",
       "\n",
       "[5 rows x 24 columns]"
      ]
     },
     "metadata": {},
     "output_type": "display_data"
    }
   ],
   "source": [
    "import pandas as pd\n",
    "%store -r melb_df\n",
    "display(melb_df.head())"
   ]
  },
  {
   "cell_type": "code",
   "execution_count": 11,
   "metadata": {},
   "outputs": [
    {
     "name": "stdout",
     "output_type": "stream",
     "text": [
      "13378\n"
     ]
    }
   ],
   "source": [
    "# Библиотека Pandas предоставляет большое количество возможностей\n",
    "# для преобразований данных, однако иногда необходимо совершать \n",
    "# более сложные манипуляции над столбцами. Например, из столбцов,\n",
    "# содержащих в себе некоторый текст, \n",
    "# необходимо специальным образом извлечь определённые слова,\n",
    "# даты или числа.\n",
    "\n",
    "# Для таких случаев Pandas не имеет специальных методов,\n",
    "# однако позволяет расширить свою функциональность за счёт\n",
    "# использования пользовательских функций. \n",
    "\n",
    "# Мы можем написать некоторую функцию, которая принимает\n",
    "# на вход один элемент столбца, каким-то образом его обрабатывает\n",
    "# и возвращает результат, после чего применить эту функцию\n",
    "# к каждому элементу в столбце \n",
    "# с помощью специального метода\n",
    "# apply().\n",
    "# В результате применения этой функции будет возвращён объект Series,\n",
    "# элементы которого будут представлять результат работы этой функции.\n",
    "\n",
    "# Рассмотрим пример. В наших данных есть столбец с адресами объектов \n",
    "# недвижимости. Проблема этого столбца в том, что в нём слишком большое\n",
    "# количество уникальных значений: почти на каждый объект недвижимости в\n",
    "# таблице приходится свой уникальный адрес. \n",
    "# Убедимся в этом, вычислив количество уникальных значений в столбце \n",
    "# с помощью метода \n",
    "# nunique():\n",
    "\n",
    "print(melb_df['Address'].nunique())"
   ]
  },
  {
   "cell_type": "code",
   "execution_count": 12,
   "metadata": {},
   "outputs": [
    {
     "name": "stdout",
     "output_type": "stream",
     "text": [
      "2/119 Railway St N\n",
      "9/400 Dandenong Rd\n",
      "172 Danks St\n"
     ]
    }
   ],
   "source": [
    "# Если мы прогнозируем цену объекта,\n",
    "# то такое большое количество возможных категорий может плохо сказаться\n",
    "# на модели, которую мы бы хотели в дальнейшем построить на наших данных.\n",
    "# Говорят, что такой признак, скорее всего,\n",
    "# не имеет статистической значимости, \n",
    "# потому что не позволяет разделить данные на группы, \n",
    "# которые можно сравнить по целевому признаку.\n",
    "\n",
    "# Из-за таких признаков зависимость между целевым признаком,\n",
    "# который мы хотим предсказать, и признаками, \n",
    "# на основе которых мы делаем предсказание, становится очень сложной.\n",
    "# При этом точность моделирования при учёте такого признака\n",
    "# может не повыситься, а даже снизиться,\n",
    "# а производительность однозначно резко упадёт.\n",
    "\n",
    "# Обычно подобные признаки удаляют, однако можно поступить умнее:\n",
    "# давайте извлечём из признака адреса характеристику\n",
    "# подтипа улицы (улица, шоссе, авеню, бульвар).\n",
    "# Для этого сначала внимательнее посмотрим на структуру адреса,\n",
    "# выберем несколько строк столбца Address:\n",
    "\n",
    "print(melb_df['Address'].loc[177])\n",
    "print(melb_df['Address'].loc[1812])\n",
    "print(melb_df['Address'].loc[9001])"
   ]
  },
  {
   "cell_type": "code",
   "execution_count": 2,
   "metadata": {},
   "outputs": [
    {
     "data": {
      "text/plain": [
       "0        St\n",
       "1        St\n",
       "2        St\n",
       "3        La\n",
       "4        St\n",
       "         ..\n",
       "13575    Cr\n",
       "13576    Dr\n",
       "13577    St\n",
       "13578    St\n",
       "13579    St\n",
       "Name: Address, Length: 13580, dtype: object"
      ]
     },
     "metadata": {},
     "output_type": "display_data"
    }
   ],
   "source": [
    "# Итак, адрес строится следующим образом:\n",
    "# сначала указывается номер дома и корпус,\n",
    "# после указывается название улицы,\n",
    "# а в конце — подтип улицы,\n",
    "# но в некоторых случаях к подтипу добавляется географическая отметка\n",
    "# (N — север, S — юг и т. д.), она нам не нужна.\n",
    "# Для того чтобы выделить подтип улицы, на которой находится объект,\n",
    "# можно использовать следующую функцию:\n",
    "\n",
    "# На вход данной функции поступает строка с адресом.\n",
    "def get_street_type(address):\n",
    "# Создаём список географических пометок exclude_list.\n",
    "    exclude_list = ['N', 'S', 'W', 'E']\n",
    "# Метод split() разбивает строку на слова по пробелу.\n",
    "# В результате получаем список слов в строке и заносим его в переменную address_list.\n",
    "    address_list = address.split(' ')\n",
    "# Обрезаем список, оставляя в нём только последний элемент,\n",
    "# потенциальный подтип улицы, и заносим в переменную street_type.\n",
    "    street_type = address_list[-1]\n",
    "# Делаем проверку на то, что полученный подтип является географической пометкой.\n",
    "# Для этого проверяем его на наличие в списке exclude_list.\n",
    "    if street_type in exclude_list:\n",
    "# Если переменная street_type является географической пометкой,\n",
    "# переопределяем её на второй элемент с конца списка address_list.\n",
    "        street_type = address_list[-2]\n",
    "# Возвращаем переменную street_type, в которой хранится подтип улицы.\n",
    "    return street_type\n",
    "\n",
    "# Теперь применим эту функцию к столбцу c адресом.\n",
    "# Для этого передадим функцию get_street_type \n",
    "# в аргумент \n",
    "# метода столбца\n",
    "# apply(). \n",
    "# В результате получим объект Series, \n",
    "# который положим в переменную street_types:\n",
    "\n",
    "street_types = melb_df['Address'].apply(get_street_type)\n",
    "display(street_types)\n",
    "\n",
    "# Обратите внимание, что функция пишется для одного элемента столбца,\n",
    "# а метод apply()\n",
    "# применяется к каждому его элементу.\n",
    "# Используемая функция обязательно должна иметь возвращаемое значение."
   ]
  },
  {
   "cell_type": "code",
   "execution_count": 14,
   "metadata": {},
   "outputs": [
    {
     "name": "stdout",
     "output_type": "stream",
     "text": [
      "56\n"
     ]
    }
   ],
   "source": [
    "# Итак, мы смогли выделить подтип улицы.\n",
    "# Посмотрим, сколько уникальных значений у нас получилось:\n",
    "\n",
    "print(street_types.nunique())"
   ]
  },
  {
   "cell_type": "code",
   "execution_count": 15,
   "metadata": {},
   "outputs": [
    {
     "data": {
      "text/plain": [
       "Address\n",
       "St           8012\n",
       "Rd           2825\n",
       "Ct            612\n",
       "Dr            447\n",
       "Av            321\n",
       "Gr            311\n",
       "Pde           211\n",
       "Pl            169\n",
       "Cr            152\n",
       "Cl            100\n",
       "La             67\n",
       "Bvd            53\n",
       "Tce            47\n",
       "Wy             40\n",
       "Avenue         40\n",
       "Cct            25\n",
       "Hwy            24\n",
       "Parade         15\n",
       "Boulevard      13\n",
       "Sq             11\n",
       "Crescent        9\n",
       "Cir             7\n",
       "Strand          7\n",
       "Esplanade       6\n",
       "Grove           5\n",
       "Gdns            4\n",
       "Grn             4\n",
       "Fairway         4\n",
       "Mews            4\n",
       "Crossway        3\n",
       "Righi           3\n",
       "Victoria        2\n",
       "Ridge           2\n",
       "Crofts          2\n",
       "Esp             2\n",
       "Glade           1\n",
       "Gra             1\n",
       "Ave             1\n",
       "Woodland        1\n",
       "Outlook         1\n",
       "Hts             1\n",
       "Highway         1\n",
       "Athol           1\n",
       "Summit          1\n",
       "Grand           1\n",
       "Res             1\n",
       "Nook            1\n",
       "Eyrie           1\n",
       "Dell            1\n",
       "East            1\n",
       "Loop            1\n",
       "Grange          1\n",
       "Terrace         1\n",
       "Cove            1\n",
       "Qy              1\n",
       "Corso           1\n",
       "Name: count, dtype: int64"
      ]
     },
     "metadata": {},
     "output_type": "display_data"
    }
   ],
   "source": [
    "# У нас есть 56 уникальных значений.\n",
    "# Однако наш результат можно улучшить.\n",
    "# Давайте для начала посмотрим на частоту \n",
    "# каждого подтипа улицы с помощью метода value_counts:\n",
    "\n",
    "display(street_types.value_counts())"
   ]
  },
  {
   "cell_type": "code",
   "execution_count": 16,
   "metadata": {},
   "outputs": [
    {
     "name": "stdout",
     "output_type": "stream",
     "text": [
      "Index(['St', 'Rd', 'Ct', 'Dr', 'Av', 'Gr', 'Pde', 'Pl', 'Cr', 'Cl'], dtype='object', name='Address')\n"
     ]
    }
   ],
   "source": [
    "# Из данного вывода можно увидеть,\n",
    "# что есть группа наиболее популярных подтипов улиц,\n",
    "# а дальше частота подтипов быстро падает.\n",
    "\n",
    "# В таком случае давайте применим очень распространённый метод\n",
    "# уменьшения количества уникальных категорий — выделим n подтипов,\n",
    "# которые встречаются чаще всего,\n",
    "# а остальные обозначим как 'other' (другие).\n",
    "\n",
    "# Для этого к результату метода value_counts применим \n",
    "# метод \n",
    "# nlargest(),\n",
    "# который возвращает n наибольших значений из Series.\n",
    "# Зададим n=10,\n",
    "# т. е. мы хотим отобрать десять наиболее популярных подтипов.\n",
    "# Извлечём их названия с помощью атрибута index,\n",
    "# а результат занесём в переменную popular_stypes:\n",
    "\n",
    "popular_stypes =street_types.value_counts().nlargest(10).index\n",
    "print(popular_stypes)"
   ]
  },
  {
   "cell_type": "code",
   "execution_count": 17,
   "metadata": {},
   "outputs": [
    {
     "data": {
      "text/plain": [
       "0           St\n",
       "1           St\n",
       "2           St\n",
       "3        other\n",
       "4           St\n",
       "         ...  \n",
       "13575       Cr\n",
       "13576       Dr\n",
       "13577       St\n",
       "13578       St\n",
       "13579       St\n",
       "Name: StreetType, Length: 13580, dtype: object"
      ]
     },
     "metadata": {},
     "output_type": "display_data"
    }
   ],
   "source": [
    "# Попробуйте применить использованные методы последовательно\n",
    "# и выводить результат, чтобы проследить за логикой преобразования.\n",
    "\n",
    "# Теперь, когда у нас есть список наиболее популярных подтипов улиц,\n",
    "# введём lambda-функцию, которая будет проверять,\n",
    "# есть ли строка x в этом перечне, и, если это так,\n",
    "# lambda-функция будет возвращать x,\n",
    "# в противном случае она будет возвращать строку 'other'.\n",
    "# Наконец, применим такую функцию к Series street_types,\n",
    "# полученной ранее, а результат определим в новый столбец\n",
    "# таблицы StreetType:\n",
    "\n",
    "melb_df['StreetType'] = street_types.apply(lambda x: x if x in popular_stypes else 'other')\n",
    "display(melb_df['StreetType'])"
   ]
  },
  {
   "cell_type": "code",
   "execution_count": 18,
   "metadata": {},
   "outputs": [
    {
     "name": "stdout",
     "output_type": "stream",
     "text": [
      "11\n"
     ]
    }
   ],
   "source": [
    "# Посмотрим на результирующее число уникальных подтипов:\n",
    "\n",
    "print(melb_df['StreetType'].nunique())"
   ]
  },
  {
   "cell_type": "code",
   "execution_count": 19,
   "metadata": {},
   "outputs": [],
   "source": [
    "# Теперь, у нас нет потребности хранить признак Address,\n",
    "# так как, если конкретное местоположение объекта всё же\n",
    "# и влияет на его стоимость,\n",
    "# то оно определяется столбцами Longitude и Lattitude.\n",
    "# Удалим его из нашей таблицы:\n",
    "\n",
    "melb_df = melb_df.drop('Address', axis=1)\n",
    "\n",
    "# Таким образом, с помощью написания собственных функций\n",
    "# и их комбинирования с методом apply() из библиотеки Pandas\n",
    "# мы смогли извлечь информацию из признака с адресом\n",
    "# и заменить на признак подтипа улицы."
   ]
  },
  {
   "cell_type": "code",
   "execution_count": 5,
   "metadata": {},
   "outputs": [
    {
     "name": "stdout",
     "output_type": "stream",
     "text": [
      "53\n"
     ]
    },
    {
     "data": {
      "text/plain": [
       "StreetType\n",
       "St           8012\n",
       "Rd           2825\n",
       "Ct            612\n",
       "Dr            447\n",
       "Av            361\n",
       "Gr            311\n",
       "Pde           226\n",
       "Pl            169\n",
       "Cr            152\n",
       "Cl            100\n",
       "La             67\n",
       "Bvd            66\n",
       "Tce            47\n",
       "Wy             40\n",
       "Cct            25\n",
       "Hwy            24\n",
       "Sq             11\n",
       "Crescent        9\n",
       "Cir             7\n",
       "Strand          7\n",
       "Esplanade       6\n",
       "Grove           5\n",
       "Mews            4\n",
       "Grn             4\n",
       "Fairway         4\n",
       "Gdns            4\n",
       "Righi           3\n",
       "Crossway        3\n",
       "Esp             2\n",
       "Victoria        2\n",
       "Ridge           2\n",
       "Crofts          2\n",
       "Grand           1\n",
       "Summit          1\n",
       "Hts             1\n",
       "Athol           1\n",
       "Highway         1\n",
       "Outlook         1\n",
       "Woodland        1\n",
       "Ave             1\n",
       "Gra             1\n",
       "Terrace         1\n",
       "Eyrie           1\n",
       "Dell            1\n",
       "East            1\n",
       "Loop            1\n",
       "Nook            1\n",
       "Glade           1\n",
       "Qy              1\n",
       "Cove            1\n",
       "Res             1\n",
       "Grange          1\n",
       "Corso           1\n",
       "Name: count, dtype: int64"
      ]
     },
     "metadata": {},
     "output_type": "display_data"
    }
   ],
   "source": [
    "# Мы предлагаем вам самостоятельно разобраться с этой ошибкой:\n",
    "# попробуйте написать функцию-преобразование\n",
    "# (lambda-функцию-преобразование),\n",
    "# которая возвращала бы вместо значений \n",
    "# Avenue,\n",
    "# Boulevard \n",
    "# и Parade их топографические сокращения,\n",
    "# и примените её к данным о подтипах улиц.\n",
    "Av_list = ['Av','Avenue']\n",
    "Bvd_list = ['Bvd','Boulevard']\n",
    "Pde_list = ['Pde','Parade']\n",
    "melb_df['StreetType'] = melb_df['StreetType'].apply(lambda x: 'Av' if x in Av_list  else x)\n",
    "melb_df['StreetType'] = melb_df['StreetType'].apply(lambda x: 'Bvd' if x in Bvd_list  else x)\n",
    "melb_df['StreetType'] = melb_df['StreetType'].apply(lambda x: 'Pde' if x in Pde_list else x)\n",
    "print(melb_df['StreetType'].nunique())\n",
    "display(melb_df['StreetType'].value_counts())\n"
   ]
  },
  {
   "cell_type": "code",
   "execution_count": 6,
   "metadata": {},
   "outputs": [
    {
     "data": {
      "text/plain": [
       "0"
      ]
     },
     "execution_count": 6,
     "metadata": {},
     "output_type": "execute_result"
    }
   ],
   "source": [
    "# Ранее, в задании 3.3, мы создали признак WeekdaySale\n",
    "# в таблице melb_df — день недели продажи.\n",
    "# Из полученных в задании результатов можно сделать вывод,\n",
    "# что объекты недвижимости в Мельбурне \n",
    "# продаются преимущественно по выходным (суббота и воскресенье).\n",
    "# Напишите функцию get_weekend(weekday),\n",
    "# которая принимает на вход элемент столбца WeekdaySale и\n",
    "# возвращает 1, если день является выходным,\n",
    "# и 0 — в противном случае,\n",
    "# и создайте столбец Weekend в таблице melb_df с помощью неё.\n",
    "\n",
    "# Примените эту функцию к столбцу\n",
    "# и вычислите среднюю цену объекта недвижимости,\n",
    "# проданного в выходные дни. Результат округлите до целых.\n",
    "\n",
    "def get_weekend(weekday):\n",
    "    res = int(weekday > 4)\n",
    "    return res \n",
    "get_weekend(4)"
   ]
  },
  {
   "cell_type": "code",
   "execution_count": 7,
   "metadata": {},
   "outputs": [
    {
     "data": {
      "text/plain": [
       "1081199"
      ]
     },
     "metadata": {},
     "output_type": "display_data"
    }
   ],
   "source": [
    "melb_df['Weekend'] = melb_df['WeekdaySale'].apply(get_weekend)\n",
    "x = melb_df[melb_df['Weekend'] == 1]['Price'].mean()\n",
    "display(round(x))"
   ]
  },
  {
   "cell_type": "code",
   "execution_count": 17,
   "metadata": {},
   "outputs": [
    {
     "data": {
      "text/plain": [
       "1.3"
      ]
     },
     "metadata": {},
     "output_type": "display_data"
    }
   ],
   "source": [
    "# Задание 4.3\n",
    "\n",
    "# Преобразуйте столбец SellerG с наименованиями риелторских компаний в таблице melb_df\n",
    "# следующим образом:\n",
    "# оставьте в столбце только 49 самых популярных компаний,\n",
    "# а остальные обозначьте как 'other'.\n",
    "\n",
    "# Найдите, во сколько раз минимальная цена объектов недвижимости,\n",
    "# проданных компанией 'Nelson',\n",
    "# больше минимальной цены объектов, \n",
    "# проданных компаниями, обозначенными как 'other'.\n",
    "# \n",
    "# Ответ округлите до десятых.\n",
    "popular_sellers = melb_df['SellerG'].value_counts().nlargest(49).index\n",
    "melb_df['SellerG'] = melb_df['SellerG'].apply(lambda x: x if x in popular_sellers else 'other')\n",
    "nelson_min = melb_df[melb_df['SellerG'] == 'Nelson']['Price'].min()\n",
    "other_min = melb_df[melb_df['SellerG'] == 'other']['Price'].min()\n",
    "display(round(nelson_min / other_min, 1))"
   ]
  },
  {
   "cell_type": "code",
   "execution_count": 38,
   "metadata": {},
   "outputs": [
    {
     "name": "stdout",
     "output_type": "stream",
     "text": [
      "0    99\n",
      "1    41\n",
      "2    21\n",
      "3     3\n",
      "4    72\n",
      "dtype: int64\n",
      "0    60\n",
      "1     5\n",
      "2    13\n",
      "3     3\n",
      "4    84\n",
      "dtype: int64\n"
     ]
    }
   ],
   "source": [
    "# Представьте, что вы занимаетесь подготовкой данных о вакансиях\n",
    "# с платформы hh.ru. В вашем распоряжении имеется таблица,\n",
    "# в которой с помощью парсинга собраны резюме кандидатов.\n",
    "# В этой таблице есть текстовый столбец «Опыт работы».\n",
    "# Пример такого столбца представлен ниже в виде объекта Series.\n",
    "# Структура текста в столбце фиксирована и не может измениться.\n",
    "\n",
    "# Напишите функцию get_experience(arg),\n",
    "# аргументом которой является строка столбца с опытом работы.\n",
    "# Функция должна возвращать опыт работы в месяцах.\n",
    "# Не забудьте привести результат к целому числу.\n",
    "\n",
    "# Обратите внимание, что \n",
    "# опыт работы может выражаться\n",
    "# только в годах \n",
    "# или только в месяцах.\n",
    "# Учтите это при построении своей функции.\n",
    "# Кроме того, \n",
    "# учтите возможные вариации слов месяц (месяца, месяцев)\n",
    "# и год (года, лет).\n",
    "\n",
    "# Примените вашу функцию к Series experience_col с помощью метода apply().\n",
    "\n",
    "def get_experience(arg):\n",
    "    months_list = ['месяц', 'месяца', 'месяцев'] # список возможных указаний лет опыта\n",
    "    years_list = ['год', 'года','лет']          # список возможных указаний месяцев опыта\n",
    "    \n",
    "    experience_list = arg.split(' ')            # разбиваем строку по пробелу\n",
    "    \n",
    "    if len(experience_list) > 4:                # значит опыт указан в годах и месяцах\n",
    "        experience_in_months = int(experience_list[-4])*12 + int(experience_list[-2])\n",
    "    else:\n",
    "        if experience_list[-1] in years_list:                   # если указан опыт только в годах\n",
    "            experience_in_months = int(experience_list[-2])*12  # перемножаем на 12\n",
    "        if experience_list[-1] in months_list:                  # если указан опыт только в месяцах                           \n",
    "            experience_in_months = int(experience_list[-2])    # опыт равен кол-ву месяцев\n",
    "    return experience_in_months\n",
    "\n",
    "\n",
    "test_series_1 = pd.Series([\n",
    "            'Опыт работы 8 лет 3 месяца',\n",
    "            'Опыт работы 3 года 5 месяцев',\n",
    "            'Опыт работы 1 год 9 месяцев',\n",
    "            'Опыт работы 3 месяца',\n",
    "            'Опыт работы 6 лет'\n",
    "        ])\n",
    "\n",
    "test_series_2 = pd.Series([\n",
    "            'Опыт работы 5 лет',\n",
    "            'Опыт работы 5 месяцев',\n",
    "            'Опыт работы 1 год 1 месяц',\n",
    "            'Опыт работы 3 месяца',\n",
    "            'Опыт работы 7 лет'\n",
    "        ])\n",
    "\n",
    "\n",
    "print(test_series_1.apply(get_experience))\n",
    "print(test_series_2.apply(get_experience))"
   ]
  },
  {
   "cell_type": "code",
   "execution_count": 8,
   "metadata": {},
   "outputs": [
    {
     "name": "stdout",
     "output_type": "stream",
     "text": [
      "Stored 'melb_df' (DataFrame)\n"
     ]
    }
   ],
   "source": [
    "%store melb_df"
   ]
  }
 ],
 "metadata": {
  "kernelspec": {
   "display_name": "Python 3",
   "language": "python",
   "name": "python3"
  },
  "language_info": {
   "codemirror_mode": {
    "name": "ipython",
    "version": 3
   },
   "file_extension": ".py",
   "mimetype": "text/x-python",
   "name": "python",
   "nbconvert_exporter": "python",
   "pygments_lexer": "ipython3",
   "version": "3.10.6"
  },
  "orig_nbformat": 4,
  "vscode": {
   "interpreter": {
    "hash": "cf92aa13fedf815d5c8dd192b8d835913fde3e8bc926b2a0ad6cc74ef2ba3ca2"
   }
  }
 },
 "nbformat": 4,
 "nbformat_minor": 2
}
