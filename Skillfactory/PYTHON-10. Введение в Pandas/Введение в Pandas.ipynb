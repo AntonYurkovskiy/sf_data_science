{
 "cells": [
  {
   "cell_type": "code",
   "execution_count": 3,
   "metadata": {},
   "outputs": [
    {
     "name": "stdout",
     "output_type": "stream",
     "text": [
      "pandas\n"
     ]
    }
   ],
   "source": [
    "\n",
    "import pandas as pd\n",
    "pd.__version__\n",
    "print(pd.__name__)"
   ]
  },
  {
   "cell_type": "code",
   "execution_count": null,
   "metadata": {},
   "outputs": [],
   "source": [
    "# Series — это упорядоченная изменяемая коллекция объектов,\n",
    "# имеющая так называемые ассоциативные метки (индексы). "
   ]
  },
  {
   "cell_type": "code",
   "execution_count": 6,
   "metadata": {},
   "outputs": [],
   "source": [
    "# Эту структуру можно сравнить со списком:\n",
    "# каждому элементу ставится в соответствие индекс,\n",
    "# однако, в отличие от списка, индексами могут\n",
    "# быть не только порядковые номера — фактически что угодно,\n",
    "# например названия компаний, даты, идентификаторы,\n",
    "# наименования продуктов.\n",
    "\n",
    "# Также для каждой Series присваивается тип данных её элементов\n",
    "# (например int64) и может быть определено имя всего массива.\n",
    "# В итоге мы получаем некоторый гибрид списка и словаря.\n",
    "\n",
    "# Пример объекта Series:"
   ]
  },
  {
   "cell_type": "code",
   "execution_count": 7,
   "metadata": {},
   "outputs": [
    {
     "data": {
      "text/plain": [
       "UK       Англия\n",
       "CA       Канада\n",
       "US          США\n",
       "RU       Россия\n",
       "UA      Украина\n",
       "BY     Беларусь\n",
       "KZ    Казахстан\n",
       "Name: countries, dtype: object"
      ]
     },
     "metadata": {},
     "output_type": "display_data"
    }
   ],
   "source": [
    "# СОЗДАНИЕ SERIES \n",
    "# Для создания объекта Series используется команда pd.Series().\n",
    "# \n",
    "# Способ 1 — из списка с использованием параметров функции pd.Series():\n",
    "\n",
    "countries = pd.Series(\n",
    "    data = ['Англия', 'Канада', 'США', 'Россия', 'Украина', 'Беларусь', 'Казахстан'],\n",
    "    index = ['UK', 'CA', 'US', 'RU', 'UA', 'BY', 'KZ'],\n",
    "    name = 'countries'\n",
    ")\n",
    "display(countries)\n",
    "#В результате выполнения кода выше мы получаем объект Series.\n",
    "# При его выводе на экран можно увидеть заданные\n",
    "# в параметре index метки — коды стран, соответствующие им значения\n",
    "# (названия стран), которые мы задали в параметре data.\n",
    "# Также с помощью аргумента name мы явно задали имя для Series.\n",
    "# Внизу, под выводом содержимого, можно увидеть тип данных объектов,\n",
    "# хранимых в Series. Типом данных object в Pandas обозначаются \n",
    "# строки и смешанные типы данных \n",
    "# (кортежи, списки, текст, смешанный с числами, и т. д.)."
   ]
  },
  {
   "cell_type": "code",
   "execution_count": 8,
   "metadata": {},
   "outputs": [
    {
     "data": {
      "text/plain": [
       "0       Англия\n",
       "1       Канада\n",
       "2          США\n",
       "3       Россия\n",
       "4      Украина\n",
       "5     Беларусь\n",
       "6    Казахстан\n",
       "dtype: object"
      ]
     },
     "metadata": {},
     "output_type": "display_data"
    }
   ],
   "source": [
    "# Примечание. Если оставить параметр index пустым,\n",
    "# то метки будут присвоены автоматически\n",
    "# в виде порядковых номеров элементов, например:\n",
    "\n",
    "countries = pd.Series(\n",
    "    ['Англия', 'Канада', 'США', 'Россия', 'Украина', 'Беларусь', 'Казахстан']\n",
    ")\n",
    "display(countries)"
   ]
  },
  {
   "cell_type": "code",
   "execution_count": 9,
   "metadata": {},
   "outputs": [
    {
     "data": {
      "text/plain": [
       "UK       Англия\n",
       "CA       Канада\n",
       "US          США\n",
       "RU       Россия\n",
       "UA      Украина\n",
       "BY     Беларусь\n",
       "KZ    Казахстан\n",
       "Name: countries, dtype: object"
      ]
     },
     "metadata": {},
     "output_type": "display_data"
    }
   ],
   "source": [
    "#Способ 2 — из словаря,\n",
    "# в котором ключами являются будущие метки,\n",
    "# а значениями — будущие значения Series,\n",
    "# при этом использование параметра name также возможно:\n",
    "\n",
    "countries = pd.Series({\n",
    "    'UK': 'Англия',\n",
    "    'CA': 'Канада',\n",
    "    'US' : 'США',\n",
    "    'RU': 'Россия',\n",
    "    'UA': 'Украина',\n",
    "    'BY': 'Беларусь',\n",
    "    'KZ': 'Казахстан'},\n",
    "    name = 'countries'\n",
    ")\n",
    "display(countries)"
   ]
  },
  {
   "cell_type": "code",
   "execution_count": null,
   "metadata": {},
   "outputs": [],
   "source": [
    "# ДОСТУП К ДАННЫМ В SERIES \n",
    "# Доступ к элементам осуществляется с использованием loc или iloc."
   ]
  },
  {
   "cell_type": "code",
   "execution_count": 10,
   "metadata": {},
   "outputs": [
    {
     "name": "stdout",
     "output_type": "stream",
     "text": [
      "США\n",
      "US       США\n",
      "RU    Россия\n",
      "UK    Англия\n",
      "Name: countries, dtype: object\n"
     ]
    }
   ],
   "source": [
    "#.loc вызывается с квадратными скобками,\n",
    "# в которые передаются метки. \n",
    "# В него можно передать как один индекс,\n",
    "# так и список, чтобы получилось несколько элементов. \n",
    "\n",
    "# Например, для получения названия страны по коду \"US\"\n",
    "# можно выполнить следующий код:\n",
    "\n",
    "print(countries.loc['US'])\n",
    "# США\n",
    "#Для того чтобы достать информацию по нескольким индексам,\n",
    "# необходимо обернуть интересующие индексы в список:\n",
    "\n",
    "print(countries.loc[['US', 'RU', 'UK']])"
   ]
  },
  {
   "cell_type": "code",
   "execution_count": null,
   "metadata": {},
   "outputs": [],
   "source": [
    "# Примечание.\n",
    "# Обратите внимание, что в случае обращения по одному индексу\n",
    "# возвращается строка.\n",
    "# Если же обратиться по нескольким элементам,\n",
    "# возвращается объект Series."
   ]
  },
  {
   "cell_type": "code",
   "execution_count": 6,
   "metadata": {},
   "outputs": [
    {
     "name": "stdout",
     "output_type": "stream",
     "text": [
      "Казахстан\n",
      "CA    Канада\n",
      "US       США\n",
      "RU    Россия\n",
      "Name: countries, dtype: object\n"
     ]
    }
   ],
   "source": [
    "#.iloc также вызывается с квадратными скобками и\n",
    "# принимает на вход порядковые номера элементов Series\n",
    "# (нумерация начинаются с 0). \n",
    "# В него можно так же передавать как один индекс, так и диапазон чисел. \n",
    "\n",
    "# Например, для получения элемента по индексу \"KZ\"\n",
    "# нужно обратиться через .iloc по номеру 6:\n",
    "\n",
    "print(countries.iloc[6])\n",
    "# Казахстан\n",
    "# Получим срез из исходной Series с первого по третий элемент:\n",
    "\n",
    "print(countries.iloc[1:4])"
   ]
  },
  {
   "cell_type": "code",
   "execution_count": null,
   "metadata": {},
   "outputs": [],
   "source": [
    "#Примечание.\n",
    "# Важно, что в последнем примере\n",
    "# конечное значение диапазона не включается в результат\n",
    "# (берутся элементы с порядковыми номерами от 1 до 4, не включая последний)."
   ]
  },
  {
   "cell_type": "code",
   "execution_count": null,
   "metadata": {},
   "outputs": [],
   "source": [
    "#На самом деле loc и iloc можно опустить\n",
    "# и обращаться к элементам Series напрямую по индексам,\n",
    "# например countries[‘UK’, 'US', ‘UA’] или countries[0, 2, 4].\n",
    "# \n",
    "# Оба варианта являются равноправными для Series,\n",
    "# однако в дальнейшем мы будем использовать эти операции\n",
    "# при обращении к более сложной структуре — DataFrame,\n",
    "# а в контексте этой структуры эти варианты уже неравноправны."
   ]
  },
  {
   "cell_type": "code",
   "execution_count": 4,
   "metadata": {},
   "outputs": [
    {
     "name": "stdout",
     "output_type": "stream",
     "text": [
      "chlorhexidine    15\n",
      "cyntomycin       18\n",
      "afobazol          7\n",
      "Name: Series medications, dtype: int64\n",
      "37.5\n"
     ]
    }
   ],
   "source": [
    "# ЗАДАНИЕ 2.4 \n",
    "\n",
    "# В аптеку поступают партии лекарств.\n",
    "# Их названия находятся в списке names,\n",
    "# количество единиц товара находится в списке counts.\n",
    "\n",
    "# Например:\n",
    "\n",
    "names=['chlorhexidine', 'cyntomycin', 'afobazol']\n",
    "counts=[15, 18, 7]\n",
    "\n",
    "# Напишите функцию create_medications(names, counts),\n",
    "# создающую Series medications,\n",
    "# индексами которого являются названия лекарств names,\n",
    "# а значениями — их количество в партии counts.\n",
    "\n",
    "def create_medications(names, counts):\n",
    "    medications = pd.Series(index = names, data = counts, name = 'Series medications')\n",
    "    return medications\n",
    "print(create_medications(names, counts))\n",
    "\n",
    "medications = create_medications(names, counts)\n",
    "\n",
    "def get_percent(medications, name):\n",
    "    percent = medications[name]/ sum(medications[:])*100\n",
    "    return percent \n",
    "print(get_percent(medications, \"chlorhexidine\"))\n",
    "# Также напишите функцию get_percent(medications, name),\n",
    "# которая возвращает долю товара с именем name от общего\n",
    "# количества товаров в партии в процентах."
   ]
  }
 ],
 "metadata": {
  "kernelspec": {
   "display_name": "Python 3.9.10 64-bit",
   "language": "python",
   "name": "python3"
  },
  "language_info": {
   "codemirror_mode": {
    "name": "ipython",
    "version": 3
   },
   "file_extension": ".py",
   "mimetype": "text/x-python",
   "name": "python",
   "nbconvert_exporter": "python",
   "pygments_lexer": "ipython3",
   "version": "3.10.6"
  },
  "orig_nbformat": 4,
  "vscode": {
   "interpreter": {
    "hash": "cf92aa13fedf815d5c8dd192b8d835913fde3e8bc926b2a0ad6cc74ef2ba3ca2"
   }
  }
 },
 "nbformat": 4,
 "nbformat_minor": 2
}
